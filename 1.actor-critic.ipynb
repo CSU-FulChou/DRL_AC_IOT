{
 "cells": [
  {
   "cell_type": "code",
   "execution_count": 8,
   "metadata": {},
   "outputs": [],
   "source": [
    "import math\n",
    "import random\n",
    "\n",
    "import gym\n",
    "import numpy as np\n",
    "\n",
    "import torch\n",
    "import torch.nn as nn\n",
    "import torch.optim as optim\n",
    "import torch.nn.functional as F\n",
    "from torch.distributions import Categorical"
   ]
  },
  {
   "cell_type": "code",
   "execution_count": 10,
   "metadata": {},
   "outputs": [],
   "source": [
    "from IPython.display import clear_output\n",
    "import matplotlib.pyplot as plt\n",
    "%matplotlib inline\n",
    "import time\n"
   ]
  },
  {
   "cell_type": "markdown",
   "metadata": {},
   "source": [
    "<h2>Use CUDA</h2>"
   ]
  },
  {
   "cell_type": "code",
   "execution_count": 12,
   "metadata": {},
   "outputs": [],
   "source": [
    "use_cuda = torch.cuda.is_available()\n",
    "device   = torch.device(\"cuda\" if use_cuda else \"cpu\")"
   ]
  },
  {
   "cell_type": "markdown",
   "metadata": {},
   "source": [
    "<h2>Create Environments</h2>"
   ]
  },
  {
   "cell_type": "code",
   "execution_count": null,
   "metadata": {},
   "outputs": [],
   "source": [
    "\n",
    "from common.multiprocessing_env import SubprocVecEnv\n",
    "\n",
    "num_envs = 16\n",
    "# env_name = \"CartPole-v0\"\n",
    "env_name = \"MountainCar-v0\"\n",
    "\n",
    "\n",
    "def make_env():\n",
    "    def _thunk():\n",
    "        env = gym.make(env_name)\n",
    "        return env\n",
    "\n",
    "    return _thunk\n",
    "\n",
    "envs = [make_env() for i in range(num_envs)]\n",
    "envs = SubprocVecEnv(envs)\n",
    "\n",
    "env = gym.make(env_name)"
   ]
  },
  {
   "cell_type": "markdown",
   "metadata": {},
   "source": [
    "<h2>Neural Network</h2>"
   ]
  },
  {
   "cell_type": "code",
   "execution_count": 5,
   "metadata": {},
   "outputs": [],
   "source": [
    "class ActorCritic(nn.Module):\n",
    "    def __init__(self, num_inputs, num_outputs, hidden_size, std=0.0):\n",
    "        super(ActorCritic, self).__init__()\n",
    "        \n",
    "        self.critic = nn.Sequential(\n",
    "            nn.Linear(num_inputs, hidden_size),\n",
    "            nn.ReLU(),\n",
    "            nn.Linear(hidden_size, hidden_size),\n",
    "            nn.ReLU(),\n",
    "            nn.Linear(hidden_size, 1)\n",
    "        )\n",
    "        \n",
    "        # self.actor = nn.Sequential(\n",
    "        #     nn.Linear(num_inputs, hidden_size),\n",
    "        #     nn.ReLU(),\n",
    "        #     nn.Linear(hidden_size, num_outputs),\n",
    "        #     nn.Softmax(dim=1),\n",
    "        # )\n",
    "\n",
    "        self.actor = nn.Sequential(\n",
    "            nn.Linear(num_inputs, hidden_size),\n",
    "            nn.ReLU(),\n",
    "            nn.Linear(hidden_size, hidden_size),\n",
    "            nn.ReLU(),\n",
    "            nn.Linear(hidden_size, num_outputs),\n",
    "            nn.Softmax(dim=1),\n",
    "        )\n",
    "        \n",
    "    def forward(self, x):\n",
    "        value = self.critic(x)\n",
    "        probs = self.actor(x)\n",
    "        dist  = Categorical(probs)\n",
    "        return dist, value"
   ]
  },
  {
   "cell_type": "code",
   "execution_count": 6,
   "metadata": {},
   "outputs": [],
   "source": [
    "def plot(frame_idx, rewards):\n",
    "    clear_output(True)\n",
    "    plt.figure(figsize=(20,5))\n",
    "    plt.subplot(131)\n",
    "    plt.title('frame %s. reward: %s' % (frame_idx, rewards[-1]))\n",
    "    plt.plot(rewards)\n",
    "    # plt.savefig('frame %s. reward: %s.jpg' % (frame_idx, rewards[-1]))\n",
    "    plt.show()\n",
    "    \n",
    "    \n",
    "def test_env(vis=False):\n",
    "    state = env.reset()\n",
    "    if vis: env.render()\n",
    "    done = False\n",
    "    total_reward = 0\n",
    "    while not done:\n",
    "        state = torch.FloatTensor(state).unsqueeze(0).to(device)\n",
    "        dist, _ = model(state)\n",
    "        next_state, reward, done, _ = env.step(dist.sample().cpu().numpy()[0])\n",
    "        state = next_state\n",
    "        if vis: env.render()\n",
    "        total_reward += reward\n",
    "    return total_reward"
   ]
  },
  {
   "cell_type": "markdown",
   "metadata": {},
   "source": [
    "<h1>A2C: Synchronous Advantage Actor Critic</h1>\n",
    "<h3><a href=\"https://blog.openai.com/baselines-acktr-a2c/#a2canda3c\">OpenAI Blog:</a></h3>\n",
    "<p>The Asynchronous Advantage Actor Critic method (A3C) has been very influential since the paper was published. The algorithm combines a few key ideas:</p>\n",
    "\n",
    "<ul>\n",
    "    <li>An updating scheme that operates on fixed-length segments of experience (say, 20 timesteps) and uses these segments to compute estimators of the returns and advantage function.</li>\n",
    "    <li>Architectures that share layers between the policy and value function.</li>\n",
    "    <li>Asynchronous updates.</li>\n",
    "</ul>\n",
    "\n",
    "<p>After reading the paper, AI researchers wondered whether the asynchrony led to improved performance (e.g. “perhaps the added noise would provide some regularization or exploration?“), or if it was just an implementation detail that allowed for faster training with a CPU-based implementation.</p>\n",
    "\n",
    "<p>As an alternative to the asynchronous implementation, researchers found you can write a synchronous, deterministic implementation that waits for each actor to finish its segment of experience before performing an update, averaging over all of the actors. One advantage of this method is that it can more effectively use of GPUs, which perform best with large batch sizes. This algorithm is naturally called A2C, short for advantage actor critic. (This term has been used in several papers.)</p>"
   ]
  },
  {
   "cell_type": "code",
   "execution_count": 7,
   "metadata": {},
   "outputs": [],
   "source": [
    "def compute_returns(next_value, rewards, masks, gamma=0.99):\n",
    "    R = next_value\n",
    "    returns = []\n",
    "    for step in reversed(range(len(rewards))):\n",
    "        R = rewards[step] + gamma * R * masks[step]\n",
    "        returns.insert(0, R)\n",
    "    return returns"
   ]
  },
  {
   "cell_type": "code",
   "execution_count": 9,
   "metadata": {},
   "outputs": [],
   "source": [
    "num_inputs  = envs.observation_space.shape[0]\n",
    "num_outputs = envs.action_space.n\n",
    "\n",
    "#Hyper params:\n",
    "hidden_size = 256\n",
    "lr          = 3e-4\n",
    "num_steps   = 5\n",
    "\n",
    "model = ActorCritic(num_inputs, num_outputs, hidden_size).to(device)\n",
    "optimizer = optim.Adam(model.parameters(),lr=0.1)"
   ]
  },
  {
   "cell_type": "code",
   "execution_count": 11,
   "metadata": {},
   "outputs": [],
   "source": [
    "max_frames   = 200000\n",
    "frame_idx    = 0\n",
    "test_rewards = []"
   ]
  },
  {
   "cell_type": "code",
   "execution_count": 13,
   "metadata": {
    "tags": []
   },
   "outputs": [
    {
     "output_type": "display_data",
     "data": {
      "text/plain": "<Figure size 1440x360 with 1 Axes>",
      "image/svg+xml": "<?xml version=\"1.0\" encoding=\"utf-8\" standalone=\"no\"?>\n<!DOCTYPE svg PUBLIC \"-//W3C//DTD SVG 1.1//EN\"\n  \"http://www.w3.org/Graphics/SVG/1.1/DTD/svg11.dtd\">\n<!-- Created with matplotlib (https://matplotlib.org/) -->\n<svg height=\"317.99625pt\" version=\"1.1\" viewBox=\"0 0 386.643107 317.99625\" width=\"386.643107pt\" xmlns=\"http://www.w3.org/2000/svg\" xmlns:xlink=\"http://www.w3.org/1999/xlink\">\n <metadata>\n  <rdf:RDF xmlns:cc=\"http://creativecommons.org/ns#\" xmlns:dc=\"http://purl.org/dc/elements/1.1/\" xmlns:rdf=\"http://www.w3.org/1999/02/22-rdf-syntax-ns#\">\n   <cc:Work>\n    <dc:type rdf:resource=\"http://purl.org/dc/dcmitype/StillImage\"/>\n    <dc:date>2021-04-09T15:52:05.761485</dc:date>\n    <dc:format>image/svg+xml</dc:format>\n    <dc:creator>\n     <cc:Agent>\n      <dc:title>Matplotlib v3.3.2, https://matplotlib.org/</dc:title>\n     </cc:Agent>\n    </dc:creator>\n   </cc:Work>\n  </rdf:RDF>\n </metadata>\n <defs>\n  <style type=\"text/css\">*{stroke-linecap:butt;stroke-linejoin:round;}</style>\n </defs>\n <g id=\"figure_1\">\n  <g id=\"patch_1\">\n   <path d=\"M 0 317.99625 \nL 386.643107 317.99625 \nL 386.643107 0 \nL 0 0 \nz\n\" style=\"fill:none;\"/>\n  </g>\n  <g id=\"axes_1\">\n   <g id=\"patch_2\">\n    <path d=\"M 51.207813 294.118125 \nL 379.443107 294.118125 \nL 379.443107 22.318125 \nL 51.207813 22.318125 \nz\n\" style=\"fill:#ffffff;\"/>\n   </g>\n   <g id=\"matplotlib.axis_1\">\n    <g id=\"xtick_1\">\n     <g id=\"line2d_1\">\n      <defs>\n       <path d=\"M 0 0 \nL 0 3.5 \n\" id=\"m368a4ab514\" style=\"stroke:#000000;stroke-width:0.8;\"/>\n      </defs>\n      <g>\n       <use style=\"stroke:#000000;stroke-width:0.8;\" x=\"66.127599\" xlink:href=\"#m368a4ab514\" y=\"294.118125\"/>\n      </g>\n     </g>\n     <g id=\"text_1\">\n      <!-- 0 -->\n      <g transform=\"translate(62.946349 308.716563)scale(0.1 -0.1)\">\n       <defs>\n        <path d=\"M 31.78125 66.40625 \nQ 24.171875 66.40625 20.328125 58.90625 \nQ 16.5 51.421875 16.5 36.375 \nQ 16.5 21.390625 20.328125 13.890625 \nQ 24.171875 6.390625 31.78125 6.390625 \nQ 39.453125 6.390625 43.28125 13.890625 \nQ 47.125 21.390625 47.125 36.375 \nQ 47.125 51.421875 43.28125 58.90625 \nQ 39.453125 66.40625 31.78125 66.40625 \nz\nM 31.78125 74.21875 \nQ 44.046875 74.21875 50.515625 64.515625 \nQ 56.984375 54.828125 56.984375 36.375 \nQ 56.984375 17.96875 50.515625 8.265625 \nQ 44.046875 -1.421875 31.78125 -1.421875 \nQ 19.53125 -1.421875 13.0625 8.265625 \nQ 6.59375 17.96875 6.59375 36.375 \nQ 6.59375 54.828125 13.0625 64.515625 \nQ 19.53125 74.21875 31.78125 74.21875 \nz\n\" id=\"DejaVuSans-48\"/>\n       </defs>\n       <use xlink:href=\"#DejaVuSans-48\"/>\n      </g>\n     </g>\n    </g>\n    <g id=\"xtick_2\">\n     <g id=\"line2d_2\">\n      <g>\n       <use style=\"stroke:#000000;stroke-width:0.8;\" x=\"114.255941\" xlink:href=\"#m368a4ab514\" y=\"294.118125\"/>\n      </g>\n     </g>\n     <g id=\"text_2\">\n      <!-- 5 -->\n      <g transform=\"translate(111.074691 308.716563)scale(0.1 -0.1)\">\n       <defs>\n        <path d=\"M 10.796875 72.90625 \nL 49.515625 72.90625 \nL 49.515625 64.59375 \nL 19.828125 64.59375 \nL 19.828125 46.734375 \nQ 21.96875 47.46875 24.109375 47.828125 \nQ 26.265625 48.1875 28.421875 48.1875 \nQ 40.625 48.1875 47.75 41.5 \nQ 54.890625 34.8125 54.890625 23.390625 \nQ 54.890625 11.625 47.5625 5.09375 \nQ 40.234375 -1.421875 26.90625 -1.421875 \nQ 22.3125 -1.421875 17.546875 -0.640625 \nQ 12.796875 0.140625 7.71875 1.703125 \nL 7.71875 11.625 \nQ 12.109375 9.234375 16.796875 8.0625 \nQ 21.484375 6.890625 26.703125 6.890625 \nQ 35.15625 6.890625 40.078125 11.328125 \nQ 45.015625 15.765625 45.015625 23.390625 \nQ 45.015625 31 40.078125 35.4375 \nQ 35.15625 39.890625 26.703125 39.890625 \nQ 22.75 39.890625 18.8125 39.015625 \nQ 14.890625 38.140625 10.796875 36.28125 \nz\n\" id=\"DejaVuSans-53\"/>\n       </defs>\n       <use xlink:href=\"#DejaVuSans-53\"/>\n      </g>\n     </g>\n    </g>\n    <g id=\"xtick_3\">\n     <g id=\"line2d_3\">\n      <g>\n       <use style=\"stroke:#000000;stroke-width:0.8;\" x=\"162.384283\" xlink:href=\"#m368a4ab514\" y=\"294.118125\"/>\n      </g>\n     </g>\n     <g id=\"text_3\">\n      <!-- 10 -->\n      <g transform=\"translate(156.021783 308.716563)scale(0.1 -0.1)\">\n       <defs>\n        <path d=\"M 12.40625 8.296875 \nL 28.515625 8.296875 \nL 28.515625 63.921875 \nL 10.984375 60.40625 \nL 10.984375 69.390625 \nL 28.421875 72.90625 \nL 38.28125 72.90625 \nL 38.28125 8.296875 \nL 54.390625 8.296875 \nL 54.390625 0 \nL 12.40625 0 \nz\n\" id=\"DejaVuSans-49\"/>\n       </defs>\n       <use xlink:href=\"#DejaVuSans-49\"/>\n       <use x=\"63.623047\" xlink:href=\"#DejaVuSans-48\"/>\n      </g>\n     </g>\n    </g>\n    <g id=\"xtick_4\">\n     <g id=\"line2d_4\">\n      <g>\n       <use style=\"stroke:#000000;stroke-width:0.8;\" x=\"210.512625\" xlink:href=\"#m368a4ab514\" y=\"294.118125\"/>\n      </g>\n     </g>\n     <g id=\"text_4\">\n      <!-- 15 -->\n      <g transform=\"translate(204.150125 308.716563)scale(0.1 -0.1)\">\n       <use xlink:href=\"#DejaVuSans-49\"/>\n       <use x=\"63.623047\" xlink:href=\"#DejaVuSans-53\"/>\n      </g>\n     </g>\n    </g>\n    <g id=\"xtick_5\">\n     <g id=\"line2d_5\">\n      <g>\n       <use style=\"stroke:#000000;stroke-width:0.8;\" x=\"258.640968\" xlink:href=\"#m368a4ab514\" y=\"294.118125\"/>\n      </g>\n     </g>\n     <g id=\"text_5\">\n      <!-- 20 -->\n      <g transform=\"translate(252.278468 308.716563)scale(0.1 -0.1)\">\n       <defs>\n        <path d=\"M 19.1875 8.296875 \nL 53.609375 8.296875 \nL 53.609375 0 \nL 7.328125 0 \nL 7.328125 8.296875 \nQ 12.9375 14.109375 22.625 23.890625 \nQ 32.328125 33.6875 34.8125 36.53125 \nQ 39.546875 41.84375 41.421875 45.53125 \nQ 43.3125 49.21875 43.3125 52.78125 \nQ 43.3125 58.59375 39.234375 62.25 \nQ 35.15625 65.921875 28.609375 65.921875 \nQ 23.96875 65.921875 18.8125 64.3125 \nQ 13.671875 62.703125 7.8125 59.421875 \nL 7.8125 69.390625 \nQ 13.765625 71.78125 18.9375 73 \nQ 24.125 74.21875 28.421875 74.21875 \nQ 39.75 74.21875 46.484375 68.546875 \nQ 53.21875 62.890625 53.21875 53.421875 \nQ 53.21875 48.921875 51.53125 44.890625 \nQ 49.859375 40.875 45.40625 35.40625 \nQ 44.1875 33.984375 37.640625 27.21875 \nQ 31.109375 20.453125 19.1875 8.296875 \nz\n\" id=\"DejaVuSans-50\"/>\n       </defs>\n       <use xlink:href=\"#DejaVuSans-50\"/>\n       <use x=\"63.623047\" xlink:href=\"#DejaVuSans-48\"/>\n      </g>\n     </g>\n    </g>\n    <g id=\"xtick_6\">\n     <g id=\"line2d_6\">\n      <g>\n       <use style=\"stroke:#000000;stroke-width:0.8;\" x=\"306.76931\" xlink:href=\"#m368a4ab514\" y=\"294.118125\"/>\n      </g>\n     </g>\n     <g id=\"text_6\">\n      <!-- 25 -->\n      <g transform=\"translate(300.40681 308.716563)scale(0.1 -0.1)\">\n       <use xlink:href=\"#DejaVuSans-50\"/>\n       <use x=\"63.623047\" xlink:href=\"#DejaVuSans-53\"/>\n      </g>\n     </g>\n    </g>\n    <g id=\"xtick_7\">\n     <g id=\"line2d_7\">\n      <g>\n       <use style=\"stroke:#000000;stroke-width:0.8;\" x=\"354.897652\" xlink:href=\"#m368a4ab514\" y=\"294.118125\"/>\n      </g>\n     </g>\n     <g id=\"text_7\">\n      <!-- 30 -->\n      <g transform=\"translate(348.535152 308.716563)scale(0.1 -0.1)\">\n       <defs>\n        <path d=\"M 40.578125 39.3125 \nQ 47.65625 37.796875 51.625 33 \nQ 55.609375 28.21875 55.609375 21.1875 \nQ 55.609375 10.40625 48.1875 4.484375 \nQ 40.765625 -1.421875 27.09375 -1.421875 \nQ 22.515625 -1.421875 17.65625 -0.515625 \nQ 12.796875 0.390625 7.625 2.203125 \nL 7.625 11.71875 \nQ 11.71875 9.328125 16.59375 8.109375 \nQ 21.484375 6.890625 26.8125 6.890625 \nQ 36.078125 6.890625 40.9375 10.546875 \nQ 45.796875 14.203125 45.796875 21.1875 \nQ 45.796875 27.640625 41.28125 31.265625 \nQ 36.765625 34.90625 28.71875 34.90625 \nL 20.21875 34.90625 \nL 20.21875 43.015625 \nL 29.109375 43.015625 \nQ 36.375 43.015625 40.234375 45.921875 \nQ 44.09375 48.828125 44.09375 54.296875 \nQ 44.09375 59.90625 40.109375 62.90625 \nQ 36.140625 65.921875 28.71875 65.921875 \nQ 24.65625 65.921875 20.015625 65.03125 \nQ 15.375 64.15625 9.8125 62.3125 \nL 9.8125 71.09375 \nQ 15.4375 72.65625 20.34375 73.4375 \nQ 25.25 74.21875 29.59375 74.21875 \nQ 40.828125 74.21875 47.359375 69.109375 \nQ 53.90625 64.015625 53.90625 55.328125 \nQ 53.90625 49.265625 50.4375 45.09375 \nQ 46.96875 40.921875 40.578125 39.3125 \nz\n\" id=\"DejaVuSans-51\"/>\n       </defs>\n       <use xlink:href=\"#DejaVuSans-51\"/>\n       <use x=\"63.623047\" xlink:href=\"#DejaVuSans-48\"/>\n      </g>\n     </g>\n    </g>\n   </g>\n   <g id=\"matplotlib.axis_2\">\n    <g id=\"ytick_1\">\n     <g id=\"line2d_8\">\n      <defs>\n       <path d=\"M 0 0 \nL -3.5 0 \n\" id=\"m1469ec9fe2\" style=\"stroke:#000000;stroke-width:0.8;\"/>\n      </defs>\n      <g>\n       <use style=\"stroke:#000000;stroke-width:0.8;\" x=\"51.207813\" xlink:href=\"#m1469ec9fe2\" y=\"281.76358\"/>\n      </g>\n     </g>\n     <g id=\"text_8\">\n      <!-- −210.0 -->\n      <g transform=\"translate(7.2 285.562798)scale(0.1 -0.1)\">\n       <defs>\n        <path d=\"M 10.59375 35.5 \nL 73.1875 35.5 \nL 73.1875 27.203125 \nL 10.59375 27.203125 \nz\n\" id=\"DejaVuSans-8722\"/>\n        <path d=\"M 10.6875 12.40625 \nL 21 12.40625 \nL 21 0 \nL 10.6875 0 \nz\n\" id=\"DejaVuSans-46\"/>\n       </defs>\n       <use xlink:href=\"#DejaVuSans-8722\"/>\n       <use x=\"83.789062\" xlink:href=\"#DejaVuSans-50\"/>\n       <use x=\"147.412109\" xlink:href=\"#DejaVuSans-49\"/>\n       <use x=\"211.035156\" xlink:href=\"#DejaVuSans-48\"/>\n       <use x=\"274.658203\" xlink:href=\"#DejaVuSans-46\"/>\n       <use x=\"306.445312\" xlink:href=\"#DejaVuSans-48\"/>\n      </g>\n     </g>\n    </g>\n    <g id=\"ytick_2\">\n     <g id=\"line2d_9\">\n      <g>\n       <use style=\"stroke:#000000;stroke-width:0.8;\" x=\"51.207813\" xlink:href=\"#m1469ec9fe2\" y=\"250.877216\"/>\n      </g>\n     </g>\n     <g id=\"text_9\">\n      <!-- −207.5 -->\n      <g transform=\"translate(7.2 254.676435)scale(0.1 -0.1)\">\n       <defs>\n        <path d=\"M 8.203125 72.90625 \nL 55.078125 72.90625 \nL 55.078125 68.703125 \nL 28.609375 0 \nL 18.3125 0 \nL 43.21875 64.59375 \nL 8.203125 64.59375 \nz\n\" id=\"DejaVuSans-55\"/>\n       </defs>\n       <use xlink:href=\"#DejaVuSans-8722\"/>\n       <use x=\"83.789062\" xlink:href=\"#DejaVuSans-50\"/>\n       <use x=\"147.412109\" xlink:href=\"#DejaVuSans-48\"/>\n       <use x=\"211.035156\" xlink:href=\"#DejaVuSans-55\"/>\n       <use x=\"274.658203\" xlink:href=\"#DejaVuSans-46\"/>\n       <use x=\"306.445312\" xlink:href=\"#DejaVuSans-53\"/>\n      </g>\n     </g>\n    </g>\n    <g id=\"ytick_3\">\n     <g id=\"line2d_10\">\n      <g>\n       <use style=\"stroke:#000000;stroke-width:0.8;\" x=\"51.207813\" xlink:href=\"#m1469ec9fe2\" y=\"219.990852\"/>\n      </g>\n     </g>\n     <g id=\"text_10\">\n      <!-- −205.0 -->\n      <g transform=\"translate(7.2 223.790071)scale(0.1 -0.1)\">\n       <use xlink:href=\"#DejaVuSans-8722\"/>\n       <use x=\"83.789062\" xlink:href=\"#DejaVuSans-50\"/>\n       <use x=\"147.412109\" xlink:href=\"#DejaVuSans-48\"/>\n       <use x=\"211.035156\" xlink:href=\"#DejaVuSans-53\"/>\n       <use x=\"274.658203\" xlink:href=\"#DejaVuSans-46\"/>\n       <use x=\"306.445312\" xlink:href=\"#DejaVuSans-48\"/>\n      </g>\n     </g>\n    </g>\n    <g id=\"ytick_4\">\n     <g id=\"line2d_11\">\n      <g>\n       <use style=\"stroke:#000000;stroke-width:0.8;\" x=\"51.207813\" xlink:href=\"#m1469ec9fe2\" y=\"189.104489\"/>\n      </g>\n     </g>\n     <g id=\"text_11\">\n      <!-- −202.5 -->\n      <g transform=\"translate(7.2 192.903707)scale(0.1 -0.1)\">\n       <use xlink:href=\"#DejaVuSans-8722\"/>\n       <use x=\"83.789062\" xlink:href=\"#DejaVuSans-50\"/>\n       <use x=\"147.412109\" xlink:href=\"#DejaVuSans-48\"/>\n       <use x=\"211.035156\" xlink:href=\"#DejaVuSans-50\"/>\n       <use x=\"274.658203\" xlink:href=\"#DejaVuSans-46\"/>\n       <use x=\"306.445312\" xlink:href=\"#DejaVuSans-53\"/>\n      </g>\n     </g>\n    </g>\n    <g id=\"ytick_5\">\n     <g id=\"line2d_12\">\n      <g>\n       <use style=\"stroke:#000000;stroke-width:0.8;\" x=\"51.207813\" xlink:href=\"#m1469ec9fe2\" y=\"158.218125\"/>\n      </g>\n     </g>\n     <g id=\"text_12\">\n      <!-- −200.0 -->\n      <g transform=\"translate(7.2 162.017344)scale(0.1 -0.1)\">\n       <use xlink:href=\"#DejaVuSans-8722\"/>\n       <use x=\"83.789062\" xlink:href=\"#DejaVuSans-50\"/>\n       <use x=\"147.412109\" xlink:href=\"#DejaVuSans-48\"/>\n       <use x=\"211.035156\" xlink:href=\"#DejaVuSans-48\"/>\n       <use x=\"274.658203\" xlink:href=\"#DejaVuSans-46\"/>\n       <use x=\"306.445312\" xlink:href=\"#DejaVuSans-48\"/>\n      </g>\n     </g>\n    </g>\n    <g id=\"ytick_6\">\n     <g id=\"line2d_13\">\n      <g>\n       <use style=\"stroke:#000000;stroke-width:0.8;\" x=\"51.207813\" xlink:href=\"#m1469ec9fe2\" y=\"127.331761\"/>\n      </g>\n     </g>\n     <g id=\"text_13\">\n      <!-- −197.5 -->\n      <g transform=\"translate(7.2 131.13098)scale(0.1 -0.1)\">\n       <defs>\n        <path d=\"M 10.984375 1.515625 \nL 10.984375 10.5 \nQ 14.703125 8.734375 18.5 7.8125 \nQ 22.3125 6.890625 25.984375 6.890625 \nQ 35.75 6.890625 40.890625 13.453125 \nQ 46.046875 20.015625 46.78125 33.40625 \nQ 43.953125 29.203125 39.59375 26.953125 \nQ 35.25 24.703125 29.984375 24.703125 \nQ 19.046875 24.703125 12.671875 31.3125 \nQ 6.296875 37.9375 6.296875 49.421875 \nQ 6.296875 60.640625 12.9375 67.421875 \nQ 19.578125 74.21875 30.609375 74.21875 \nQ 43.265625 74.21875 49.921875 64.515625 \nQ 56.59375 54.828125 56.59375 36.375 \nQ 56.59375 19.140625 48.40625 8.859375 \nQ 40.234375 -1.421875 26.421875 -1.421875 \nQ 22.703125 -1.421875 18.890625 -0.6875 \nQ 15.09375 0.046875 10.984375 1.515625 \nz\nM 30.609375 32.421875 \nQ 37.25 32.421875 41.125 36.953125 \nQ 45.015625 41.5 45.015625 49.421875 \nQ 45.015625 57.28125 41.125 61.84375 \nQ 37.25 66.40625 30.609375 66.40625 \nQ 23.96875 66.40625 20.09375 61.84375 \nQ 16.21875 57.28125 16.21875 49.421875 \nQ 16.21875 41.5 20.09375 36.953125 \nQ 23.96875 32.421875 30.609375 32.421875 \nz\n\" id=\"DejaVuSans-57\"/>\n       </defs>\n       <use xlink:href=\"#DejaVuSans-8722\"/>\n       <use x=\"83.789062\" xlink:href=\"#DejaVuSans-49\"/>\n       <use x=\"147.412109\" xlink:href=\"#DejaVuSans-57\"/>\n       <use x=\"211.035156\" xlink:href=\"#DejaVuSans-55\"/>\n       <use x=\"274.658203\" xlink:href=\"#DejaVuSans-46\"/>\n       <use x=\"306.445312\" xlink:href=\"#DejaVuSans-53\"/>\n      </g>\n     </g>\n    </g>\n    <g id=\"ytick_7\">\n     <g id=\"line2d_14\">\n      <g>\n       <use style=\"stroke:#000000;stroke-width:0.8;\" x=\"51.207813\" xlink:href=\"#m1469ec9fe2\" y=\"96.445398\"/>\n      </g>\n     </g>\n     <g id=\"text_14\">\n      <!-- −195.0 -->\n      <g transform=\"translate(7.2 100.244616)scale(0.1 -0.1)\">\n       <use xlink:href=\"#DejaVuSans-8722\"/>\n       <use x=\"83.789062\" xlink:href=\"#DejaVuSans-49\"/>\n       <use x=\"147.412109\" xlink:href=\"#DejaVuSans-57\"/>\n       <use x=\"211.035156\" xlink:href=\"#DejaVuSans-53\"/>\n       <use x=\"274.658203\" xlink:href=\"#DejaVuSans-46\"/>\n       <use x=\"306.445312\" xlink:href=\"#DejaVuSans-48\"/>\n      </g>\n     </g>\n    </g>\n    <g id=\"ytick_8\">\n     <g id=\"line2d_15\">\n      <g>\n       <use style=\"stroke:#000000;stroke-width:0.8;\" x=\"51.207813\" xlink:href=\"#m1469ec9fe2\" y=\"65.559034\"/>\n      </g>\n     </g>\n     <g id=\"text_15\">\n      <!-- −192.5 -->\n      <g transform=\"translate(7.2 69.358253)scale(0.1 -0.1)\">\n       <use xlink:href=\"#DejaVuSans-8722\"/>\n       <use x=\"83.789062\" xlink:href=\"#DejaVuSans-49\"/>\n       <use x=\"147.412109\" xlink:href=\"#DejaVuSans-57\"/>\n       <use x=\"211.035156\" xlink:href=\"#DejaVuSans-50\"/>\n       <use x=\"274.658203\" xlink:href=\"#DejaVuSans-46\"/>\n       <use x=\"306.445312\" xlink:href=\"#DejaVuSans-53\"/>\n      </g>\n     </g>\n    </g>\n    <g id=\"ytick_9\">\n     <g id=\"line2d_16\">\n      <g>\n       <use style=\"stroke:#000000;stroke-width:0.8;\" x=\"51.207813\" xlink:href=\"#m1469ec9fe2\" y=\"34.67267\"/>\n      </g>\n     </g>\n     <g id=\"text_16\">\n      <!-- −190.0 -->\n      <g transform=\"translate(7.2 38.471889)scale(0.1 -0.1)\">\n       <use xlink:href=\"#DejaVuSans-8722\"/>\n       <use x=\"83.789062\" xlink:href=\"#DejaVuSans-49\"/>\n       <use x=\"147.412109\" xlink:href=\"#DejaVuSans-57\"/>\n       <use x=\"211.035156\" xlink:href=\"#DejaVuSans-48\"/>\n       <use x=\"274.658203\" xlink:href=\"#DejaVuSans-46\"/>\n       <use x=\"306.445312\" xlink:href=\"#DejaVuSans-48\"/>\n      </g>\n     </g>\n    </g>\n   </g>\n   <g id=\"line2d_17\">\n    <path clip-path=\"url(#p8ddc464ab8)\" d=\"M 66.127599 158.218125 \nL 75.753267 158.218125 \nL 85.378935 158.218125 \nL 95.004604 158.218125 \nL 104.630272 158.218125 \nL 114.255941 158.218125 \nL 123.881609 158.218125 \nL 133.507278 158.218125 \nL 143.132946 158.218125 \nL 152.758615 158.218125 \nL 162.384283 158.218125 \nL 172.009952 158.218125 \nL 181.63562 158.218125 \nL 191.261288 158.218125 \nL 200.886957 158.218125 \nL 210.512625 158.218125 \nL 220.138294 158.218125 \nL 229.763962 158.218125 \nL 239.389631 158.218125 \nL 249.015299 158.218125 \nL 258.640968 158.218125 \nL 268.266636 158.218125 \nL 277.892304 158.218125 \nL 287.517973 158.218125 \nL 297.143641 158.218125 \nL 306.76931 158.218125 \nL 316.394978 158.218125 \nL 326.020647 158.218125 \nL 335.646315 158.218125 \nL 345.271984 158.218125 \nL 354.897652 158.218125 \nL 364.523321 158.218125 \n\" style=\"fill:none;stroke:#1f77b4;stroke-linecap:square;stroke-width:1.5;\"/>\n   </g>\n   <g id=\"patch_3\">\n    <path d=\"M 51.207813 294.118125 \nL 51.207813 22.318125 \n\" style=\"fill:none;stroke:#000000;stroke-linecap:square;stroke-linejoin:miter;stroke-width:0.8;\"/>\n   </g>\n   <g id=\"patch_4\">\n    <path d=\"M 379.443107 294.118125 \nL 379.443107 22.318125 \n\" style=\"fill:none;stroke:#000000;stroke-linecap:square;stroke-linejoin:miter;stroke-width:0.8;\"/>\n   </g>\n   <g id=\"patch_5\">\n    <path d=\"M 51.207813 294.118125 \nL 379.443107 294.118125 \n\" style=\"fill:none;stroke:#000000;stroke-linecap:square;stroke-linejoin:miter;stroke-width:0.8;\"/>\n   </g>\n   <g id=\"patch_6\">\n    <path d=\"M 51.207813 22.318125 \nL 379.443107 22.318125 \n\" style=\"fill:none;stroke:#000000;stroke-linecap:square;stroke-linejoin:miter;stroke-width:0.8;\"/>\n   </g>\n   <g id=\"text_17\">\n    <!-- frame 32000. reward: -200.0 -->\n    <g transform=\"translate(128.67796 16.318125)scale(0.12 -0.12)\">\n     <defs>\n      <path d=\"M 37.109375 75.984375 \nL 37.109375 68.5 \nL 28.515625 68.5 \nQ 23.6875 68.5 21.796875 66.546875 \nQ 19.921875 64.59375 19.921875 59.515625 \nL 19.921875 54.6875 \nL 34.71875 54.6875 \nL 34.71875 47.703125 \nL 19.921875 47.703125 \nL 19.921875 0 \nL 10.890625 0 \nL 10.890625 47.703125 \nL 2.296875 47.703125 \nL 2.296875 54.6875 \nL 10.890625 54.6875 \nL 10.890625 58.5 \nQ 10.890625 67.625 15.140625 71.796875 \nQ 19.390625 75.984375 28.609375 75.984375 \nz\n\" id=\"DejaVuSans-102\"/>\n      <path d=\"M 41.109375 46.296875 \nQ 39.59375 47.171875 37.8125 47.578125 \nQ 36.03125 48 33.890625 48 \nQ 26.265625 48 22.1875 43.046875 \nQ 18.109375 38.09375 18.109375 28.8125 \nL 18.109375 0 \nL 9.078125 0 \nL 9.078125 54.6875 \nL 18.109375 54.6875 \nL 18.109375 46.1875 \nQ 20.953125 51.171875 25.484375 53.578125 \nQ 30.03125 56 36.53125 56 \nQ 37.453125 56 38.578125 55.875 \nQ 39.703125 55.765625 41.0625 55.515625 \nz\n\" id=\"DejaVuSans-114\"/>\n      <path d=\"M 34.28125 27.484375 \nQ 23.390625 27.484375 19.1875 25 \nQ 14.984375 22.515625 14.984375 16.5 \nQ 14.984375 11.71875 18.140625 8.90625 \nQ 21.296875 6.109375 26.703125 6.109375 \nQ 34.1875 6.109375 38.703125 11.40625 \nQ 43.21875 16.703125 43.21875 25.484375 \nL 43.21875 27.484375 \nz\nM 52.203125 31.203125 \nL 52.203125 0 \nL 43.21875 0 \nL 43.21875 8.296875 \nQ 40.140625 3.328125 35.546875 0.953125 \nQ 30.953125 -1.421875 24.3125 -1.421875 \nQ 15.921875 -1.421875 10.953125 3.296875 \nQ 6 8.015625 6 15.921875 \nQ 6 25.140625 12.171875 29.828125 \nQ 18.359375 34.515625 30.609375 34.515625 \nL 43.21875 34.515625 \nL 43.21875 35.40625 \nQ 43.21875 41.609375 39.140625 45 \nQ 35.0625 48.390625 27.6875 48.390625 \nQ 23 48.390625 18.546875 47.265625 \nQ 14.109375 46.140625 10.015625 43.890625 \nL 10.015625 52.203125 \nQ 14.9375 54.109375 19.578125 55.046875 \nQ 24.21875 56 28.609375 56 \nQ 40.484375 56 46.34375 49.84375 \nQ 52.203125 43.703125 52.203125 31.203125 \nz\n\" id=\"DejaVuSans-97\"/>\n      <path d=\"M 52 44.1875 \nQ 55.375 50.25 60.0625 53.125 \nQ 64.75 56 71.09375 56 \nQ 79.640625 56 84.28125 50.015625 \nQ 88.921875 44.046875 88.921875 33.015625 \nL 88.921875 0 \nL 79.890625 0 \nL 79.890625 32.71875 \nQ 79.890625 40.578125 77.09375 44.375 \nQ 74.3125 48.1875 68.609375 48.1875 \nQ 61.625 48.1875 57.5625 43.546875 \nQ 53.515625 38.921875 53.515625 30.90625 \nL 53.515625 0 \nL 44.484375 0 \nL 44.484375 32.71875 \nQ 44.484375 40.625 41.703125 44.40625 \nQ 38.921875 48.1875 33.109375 48.1875 \nQ 26.21875 48.1875 22.15625 43.53125 \nQ 18.109375 38.875 18.109375 30.90625 \nL 18.109375 0 \nL 9.078125 0 \nL 9.078125 54.6875 \nL 18.109375 54.6875 \nL 18.109375 46.1875 \nQ 21.1875 51.21875 25.484375 53.609375 \nQ 29.78125 56 35.6875 56 \nQ 41.65625 56 45.828125 52.96875 \nQ 50 49.953125 52 44.1875 \nz\n\" id=\"DejaVuSans-109\"/>\n      <path d=\"M 56.203125 29.59375 \nL 56.203125 25.203125 \nL 14.890625 25.203125 \nQ 15.484375 15.921875 20.484375 11.0625 \nQ 25.484375 6.203125 34.421875 6.203125 \nQ 39.59375 6.203125 44.453125 7.46875 \nQ 49.3125 8.734375 54.109375 11.28125 \nL 54.109375 2.78125 \nQ 49.265625 0.734375 44.1875 -0.34375 \nQ 39.109375 -1.421875 33.890625 -1.421875 \nQ 20.796875 -1.421875 13.15625 6.1875 \nQ 5.515625 13.8125 5.515625 26.8125 \nQ 5.515625 40.234375 12.765625 48.109375 \nQ 20.015625 56 32.328125 56 \nQ 43.359375 56 49.78125 48.890625 \nQ 56.203125 41.796875 56.203125 29.59375 \nz\nM 47.21875 32.234375 \nQ 47.125 39.59375 43.09375 43.984375 \nQ 39.0625 48.390625 32.421875 48.390625 \nQ 24.90625 48.390625 20.390625 44.140625 \nQ 15.875 39.890625 15.1875 32.171875 \nz\n\" id=\"DejaVuSans-101\"/>\n      <path id=\"DejaVuSans-32\"/>\n      <path d=\"M 4.203125 54.6875 \nL 13.1875 54.6875 \nL 24.421875 12.015625 \nL 35.59375 54.6875 \nL 46.1875 54.6875 \nL 57.421875 12.015625 \nL 68.609375 54.6875 \nL 77.59375 54.6875 \nL 63.28125 0 \nL 52.6875 0 \nL 40.921875 44.828125 \nL 29.109375 0 \nL 18.5 0 \nz\n\" id=\"DejaVuSans-119\"/>\n      <path d=\"M 45.40625 46.390625 \nL 45.40625 75.984375 \nL 54.390625 75.984375 \nL 54.390625 0 \nL 45.40625 0 \nL 45.40625 8.203125 \nQ 42.578125 3.328125 38.25 0.953125 \nQ 33.9375 -1.421875 27.875 -1.421875 \nQ 17.96875 -1.421875 11.734375 6.484375 \nQ 5.515625 14.40625 5.515625 27.296875 \nQ 5.515625 40.1875 11.734375 48.09375 \nQ 17.96875 56 27.875 56 \nQ 33.9375 56 38.25 53.625 \nQ 42.578125 51.265625 45.40625 46.390625 \nz\nM 14.796875 27.296875 \nQ 14.796875 17.390625 18.875 11.75 \nQ 22.953125 6.109375 30.078125 6.109375 \nQ 37.203125 6.109375 41.296875 11.75 \nQ 45.40625 17.390625 45.40625 27.296875 \nQ 45.40625 37.203125 41.296875 42.84375 \nQ 37.203125 48.484375 30.078125 48.484375 \nQ 22.953125 48.484375 18.875 42.84375 \nQ 14.796875 37.203125 14.796875 27.296875 \nz\n\" id=\"DejaVuSans-100\"/>\n      <path d=\"M 11.71875 12.40625 \nL 22.015625 12.40625 \nL 22.015625 0 \nL 11.71875 0 \nz\nM 11.71875 51.703125 \nL 22.015625 51.703125 \nL 22.015625 39.3125 \nL 11.71875 39.3125 \nz\n\" id=\"DejaVuSans-58\"/>\n      <path d=\"M 4.890625 31.390625 \nL 31.203125 31.390625 \nL 31.203125 23.390625 \nL 4.890625 23.390625 \nz\n\" id=\"DejaVuSans-45\"/>\n     </defs>\n     <use xlink:href=\"#DejaVuSans-102\"/>\n     <use x=\"35.205078\" xlink:href=\"#DejaVuSans-114\"/>\n     <use x=\"76.318359\" xlink:href=\"#DejaVuSans-97\"/>\n     <use x=\"137.597656\" xlink:href=\"#DejaVuSans-109\"/>\n     <use x=\"235.009766\" xlink:href=\"#DejaVuSans-101\"/>\n     <use x=\"296.533203\" xlink:href=\"#DejaVuSans-32\"/>\n     <use x=\"328.320312\" xlink:href=\"#DejaVuSans-51\"/>\n     <use x=\"391.943359\" xlink:href=\"#DejaVuSans-50\"/>\n     <use x=\"455.566406\" xlink:href=\"#DejaVuSans-48\"/>\n     <use x=\"519.189453\" xlink:href=\"#DejaVuSans-48\"/>\n     <use x=\"582.8125\" xlink:href=\"#DejaVuSans-48\"/>\n     <use x=\"646.435547\" xlink:href=\"#DejaVuSans-46\"/>\n     <use x=\"678.222656\" xlink:href=\"#DejaVuSans-32\"/>\n     <use x=\"710.009766\" xlink:href=\"#DejaVuSans-114\"/>\n     <use x=\"748.873047\" xlink:href=\"#DejaVuSans-101\"/>\n     <use x=\"810.396484\" xlink:href=\"#DejaVuSans-119\"/>\n     <use x=\"892.183594\" xlink:href=\"#DejaVuSans-97\"/>\n     <use x=\"953.462891\" xlink:href=\"#DejaVuSans-114\"/>\n     <use x=\"992.826172\" xlink:href=\"#DejaVuSans-100\"/>\n     <use x=\"1056.302734\" xlink:href=\"#DejaVuSans-58\"/>\n     <use x=\"1089.994141\" xlink:href=\"#DejaVuSans-32\"/>\n     <use x=\"1121.78125\" xlink:href=\"#DejaVuSans-45\"/>\n     <use x=\"1157.865234\" xlink:href=\"#DejaVuSans-50\"/>\n     <use x=\"1221.488281\" xlink:href=\"#DejaVuSans-48\"/>\n     <use x=\"1285.111328\" xlink:href=\"#DejaVuSans-48\"/>\n     <use x=\"1348.734375\" xlink:href=\"#DejaVuSans-46\"/>\n     <use x=\"1380.521484\" xlink:href=\"#DejaVuSans-48\"/>\n    </g>\n   </g>\n  </g>\n </g>\n <defs>\n  <clipPath id=\"p8ddc464ab8\">\n   <rect height=\"271.8\" width=\"328.235294\" x=\"51.207813\" y=\"22.318125\"/>\n  </clipPath>\n </defs>\n</svg>\n",
      "image/png": "[encoded data removed]"
     },
     "metadata": {
      "needs_background": "light"
     }
    },
    {
     "output_type": "error",
     "ename": "KeyboardInterrupt",
     "evalue": "",
     "traceback": [
      "\u001b[0;31m---------------------------------------------------------------------------\u001b[0m",
      "\u001b[0;31mKeyboardInterrupt\u001b[0m                         Traceback (most recent call last)",
      "\u001b[0;32m<ipython-input-13-716c00673dea>\u001b[0m in \u001b[0;36m<module>\u001b[0;34m\u001b[0m\n\u001b[1;32m     63\u001b[0m \u001b[0;34m\u001b[0m\u001b[0m\n\u001b[1;32m     64\u001b[0m     \u001b[0moptimizer\u001b[0m\u001b[0;34m.\u001b[0m\u001b[0mzero_grad\u001b[0m\u001b[0;34m(\u001b[0m\u001b[0;34m)\u001b[0m\u001b[0;34m\u001b[0m\u001b[0m\n\u001b[0;32m---> 65\u001b[0;31m     \u001b[0mloss\u001b[0m\u001b[0;34m.\u001b[0m\u001b[0mbackward\u001b[0m\u001b[0;34m(\u001b[0m\u001b[0;34m)\u001b[0m\u001b[0;34m\u001b[0m\u001b[0m\n\u001b[0m\u001b[1;32m     66\u001b[0m     \u001b[0moptimizer\u001b[0m\u001b[0;34m.\u001b[0m\u001b[0mstep\u001b[0m\u001b[0;34m(\u001b[0m\u001b[0;34m)\u001b[0m\u001b[0;34m\u001b[0m\u001b[0m\n\u001b[1;32m     67\u001b[0m     \u001b[0mend\u001b[0m \u001b[0;34m=\u001b[0m \u001b[0mtime\u001b[0m\u001b[0;34m.\u001b[0m\u001b[0mtime\u001b[0m\u001b[0;34m(\u001b[0m\u001b[0;34m)\u001b[0m\u001b[0;34m\u001b[0m\u001b[0m\n",
      "\u001b[0;32m~/.pyenv/versions/torch_3.6.3/lib/python3.6/site-packages/torch/tensor.py\u001b[0m in \u001b[0;36mbackward\u001b[0;34m(self, gradient, retain_graph, create_graph)\u001b[0m\n\u001b[1;32m    219\u001b[0m                 \u001b[0mretain_graph\u001b[0m\u001b[0;34m=\u001b[0m\u001b[0mretain_graph\u001b[0m\u001b[0;34m,\u001b[0m\u001b[0;34m\u001b[0m\u001b[0m\n\u001b[1;32m    220\u001b[0m                 create_graph=create_graph)\n\u001b[0;32m--> 221\u001b[0;31m         \u001b[0mtorch\u001b[0m\u001b[0;34m.\u001b[0m\u001b[0mautograd\u001b[0m\u001b[0;34m.\u001b[0m\u001b[0mbackward\u001b[0m\u001b[0;34m(\u001b[0m\u001b[0mself\u001b[0m\u001b[0;34m,\u001b[0m \u001b[0mgradient\u001b[0m\u001b[0;34m,\u001b[0m \u001b[0mretain_graph\u001b[0m\u001b[0;34m,\u001b[0m \u001b[0mcreate_graph\u001b[0m\u001b[0;34m)\u001b[0m\u001b[0;34m\u001b[0m\u001b[0m\n\u001b[0m\u001b[1;32m    222\u001b[0m \u001b[0;34m\u001b[0m\u001b[0m\n\u001b[1;32m    223\u001b[0m     \u001b[0;32mdef\u001b[0m \u001b[0mregister_hook\u001b[0m\u001b[0;34m(\u001b[0m\u001b[0mself\u001b[0m\u001b[0;34m,\u001b[0m \u001b[0mhook\u001b[0m\u001b[0;34m)\u001b[0m\u001b[0;34m:\u001b[0m\u001b[0;34m\u001b[0m\u001b[0m\n",
      "\u001b[0;32m~/.pyenv/versions/torch_3.6.3/lib/python3.6/site-packages/torch/autograd/__init__.py\u001b[0m in \u001b[0;36mbackward\u001b[0;34m(tensors, grad_tensors, retain_graph, create_graph, grad_variables)\u001b[0m\n\u001b[1;32m    130\u001b[0m     Variable._execution_engine.run_backward(\n\u001b[1;32m    131\u001b[0m         \u001b[0mtensors\u001b[0m\u001b[0;34m,\u001b[0m \u001b[0mgrad_tensors_\u001b[0m\u001b[0;34m,\u001b[0m \u001b[0mretain_graph\u001b[0m\u001b[0;34m,\u001b[0m \u001b[0mcreate_graph\u001b[0m\u001b[0;34m,\u001b[0m\u001b[0;34m\u001b[0m\u001b[0m\n\u001b[0;32m--> 132\u001b[0;31m         allow_unreachable=True)  # allow_unreachable flag\n\u001b[0m\u001b[1;32m    133\u001b[0m \u001b[0;34m\u001b[0m\u001b[0m\n\u001b[1;32m    134\u001b[0m \u001b[0;34m\u001b[0m\u001b[0m\n",
      "\u001b[0;31mKeyboardInterrupt\u001b[0m: "
     ]
    }
   ],
   "source": [
    "start = time.time()\n",
    "\n",
    "state = envs.reset()\n",
    "\n",
    "while frame_idx < max_frames:\n",
    "\n",
    "    log_probs = []\n",
    "    values    = []\n",
    "    rewards   = []\n",
    "    masks     = []\n",
    "    entropy = 0\n",
    "\n",
    "    for _ in range(num_steps):\n",
    "        state = torch.FloatTensor(state).to(device)\n",
    "        dist, value = model(state)\n",
    "        \n",
    "        # print('dist: ',dist,dist.sample())\n",
    "\n",
    "        action = dist.sample()\n",
    "        next_state, reward, done, _ = envs.step(action.cpu().numpy())\n",
    "        # \n",
    "\n",
    "        log_prob = dist.log_prob(action)\n",
    "        entropy += dist.entropy().mean()\n",
    "        \n",
    "        log_probs.append(log_prob)\n",
    "        values.append(value)\n",
    "        # print('reward: ', reward)\n",
    "        rewards.append(torch.FloatTensor(reward).unsqueeze(1).to(device))\n",
    "        masks.append(torch.FloatTensor(1 - done).unsqueeze(1).to(device))\n",
    "        # print('new reward: ', reward)\n",
    "        state = next_state\n",
    "        frame_idx += 1\n",
    "        \n",
    "        if frame_idx % 1000 == 0:\n",
    "            test_rewards.append(np.mean([test_env() for _ in range(1)]))\n",
    "            plot(frame_idx, test_rewards)\n",
    "    \n",
    "    # print(entropy)\n",
    "    next_state = torch.FloatTensor(next_state).to(device)\n",
    "    _, next_value = model(next_state)\n",
    "    \n",
    "    # print('cul',next_value.shape)\n",
    "    # print('rewards:',rewards[0].shape )\n",
    "    # print('mask: ',masks)\n",
    "    \n",
    "    returns = compute_returns(next_value, rewards, masks)\n",
    "    # print('rewards : ',rewards)\n",
    "\n",
    "    \n",
    "    log_probs = torch.cat(log_probs)\n",
    "    returns   = torch.cat(returns).detach()\n",
    "    values    = torch.cat(values)\n",
    "    # print('returns: ',returns, returns.shape) # value.shape [10,1]\n",
    "\n",
    "    advantage = returns - values # [10,1]\n",
    "    # print('bug',log_probs.shape, advantage.shape)\n",
    "\n",
    "    actor_loss  = -(log_probs * advantage.detach()).mean()\n",
    "    critic_loss = advantage.pow(2).mean()\n",
    "\n",
    "    loss = actor_loss + 0.5 * critic_loss - 0.001 * entropy\n",
    "\n",
    "    optimizer.zero_grad()\n",
    "    loss.backward()\n",
    "    optimizer.step()\n",
    "    end = time.time()\n",
    "print('time: ', end - start)"
   ]
  },
  {
   "cell_type": "code",
   "execution_count": 23,
   "metadata": {},
   "outputs": [],
   "source": [
    "# torch.save(model.state_dict(),'model.pth')"
   ]
  },
  {
   "cell_type": "code",
   "execution_count": 24,
   "metadata": {
    "tags": [
     "outputPrepend"
    ]
   },
   "outputs": [
    {
     "output_type": "stream",
     "name": "stdout",
     "text": [
      "259, -0.11923885345458984, 0.09283347427845001, 0.1574874073266983, 0.17521430552005768, 0.003318721428513527, 0.021515458822250366, 0.0863896831870079, 0.03256998956203461, -0.13389065861701965, -0.0345296785235405, 0.021610384806990623, 0.08309443295001984, -0.12066780030727386, -0.17074529826641083, 0.17141859233379364, 0.07166837155818939, -0.08954230695962906, 0.1573677808046341, 0.23942570388317108, -0.01969391107559204, 0.045374687761068344, -0.14230147004127502, 0.1413976103067398, 0.09393393993377686, -0.015214592218399048, 0.23758363723754883], [-0.2088882327079773, 0.04608924314379692, -0.006672754883766174, 0.05929136276245117, -0.04647045210003853, 0.045826077461242676, 0.15414641797542572, 0.12602807581424713, 0.07414393126964569, 0.04997710883617401, -0.01951459050178528, -0.10323572903871536, -0.030640430748462677, 0.05742599070072174, -0.06247714161872864, -0.12261778116226196, 0.10415754467248917, 0.1049598902463913, -0.0715070366859436, -0.082901231944561, 0.049437016248703, 0.12736843526363373, -0.025128290057182312, 0.054068513214588165, -0.14843325316905975, -0.125462606549263, 0.14044439792633057, 0.14519758522510529, -0.16360825300216675, -0.18211248517036438, -0.03352823853492737, -0.02311420626938343], [0.10617995262145996, -0.018834855407476425, -0.041018709540367126, -0.07350815087556839, -0.132065087556839, 0.10488824546337128, 0.06813378632068634, 0.03063349425792694, 0.10129033029079437, -0.14455410838127136, 0.0863112360239029, 0.12903501093387604, 0.05965479835867882, 0.07327510416507721, 0.045889973640441895, -0.10429403185844421, 0.06955111026763916, -0.018553823232650757, -0.15977443754673004, -0.032233744859695435, -0.05585922300815582, 0.13429217040538788, 0.1576695591211319, -0.18016473948955536, -0.11063167452812195, 0.08783705532550812, -0.027533425018191338, 0.01722240447998047, -0.09494540840387344, 0.051493190228939056, -0.11074208468198776, 0.02470257878303528], [-0.09139552712440491, 0.06936384737491608, -0.1154075562953949, 0.14695407450199127, 0.11288250982761383, -0.15024638175964355, 0.13445912301540375, 0.16129465401172638, 0.0744761973619461, -0.03621986508369446, -0.010424748063087463, 0.11246402561664581, 0.019531920552253723, 0.12505783140659332, -0.15534768998622894, 0.08200336992740631, -0.053270287811756134, 0.16053588688373566, -0.061169303953647614, 0.09851013123989105, -0.08702889829874039, 0.06171564757823944, 0.16861115396022797, 0.038385748863220215, -0.13296981155872345, 0.08638791739940643, -0.08276412636041641, -0.04693746566772461, 0.14730204641819, -0.16215649247169495, -0.05990057438611984, -0.02379937469959259], [-0.10169561207294464, -0.04017561674118042, -0.057133570313453674, -0.007645100355148315, -0.060995254665613174, 0.08900000154972076, -0.004974871873855591, -0.06350461393594742, -0.15087753534317017, -0.029106276109814644, 0.08473682403564453, 0.13309414684772491, -0.09122005850076675, 0.024200722575187683, -0.14161759614944458, 0.1446525901556015, 0.05354585498571396, -0.0558062419295311, -0.11273422092199326, -0.12499023973941803, 0.10438241064548492, 0.07873167097568512, 0.040122345089912415, -0.17630000412464142, -0.06465897709131241, 0.1505928784608841, 0.0365566648542881, -0.11453985422849655, 0.010857656598091125, 0.15751755237579346, -0.06966808438301086, -0.0447344072163105], [-0.18445135653018951, 0.09986172616481781, -0.0002234429121017456, -0.10074643045663834, 0.14251895248889923, -0.11295656859874725, 0.06966975331306458, 0.059085115790367126, -0.1464962512254715, -0.07549577951431274, 0.02222340553998947, 0.04948478937149048, -0.0009028426720760763, 0.026077494025230408, 0.09884722530841827, -0.17142128944396973, -0.05577473342418671, -0.0729600042104721, -0.20133015513420105, 0.07893948256969452, 0.00015205144882202148, -0.06140654534101486, 0.09020985662937164, -0.06467542797327042, 0.07284300029277802, 0.13528449833393097, 0.05326021462678909, -0.10820948332548141, -0.02446867525577545, 0.09163083881139755, -0.09014040976762772, 0.02636820450425148], [0.13880902528762817, 0.12797002494335175, 0.0751565545797348, 0.09289558231830597, -0.19229139387607574, -0.10671862214803696, 0.13640879094600677, -0.04868564009666443, -0.021611422300338745, -0.09724403917789459, -0.04109419137239456, 0.04270872473716736, -0.1522063910961151, -0.07478857040405273, 0.1133825033903122, 0.014836135320365429, 0.046675171703100204, -0.07484713196754456, 0.02017429657280445, -0.029631387442350388, -0.048310503363609314, 0.09435923397541046, -0.10642509162425995, -0.046141792088747025, 0.13452400267124176, 0.17378182709217072, -0.003940936643630266, 0.02789965271949768, -0.13513559103012085, 0.1327187418937683, -0.11411836743354797, 0.09195110946893692], [0.04451877996325493, -0.03410221263766289, -0.014691337943077087, -0.04359067976474762, 0.07030642777681351, 0.09358848631381989, 0.04283243417739868, 0.08978714048862457, 0.16398747265338898, -0.030206799507141113, 0.19084113836288452, 0.1436946541070938, 0.1292765736579895, -0.1731434166431427, 0.17309851944446564, -0.023832958191633224, 0.12479989230632782, 0.027432352304458618, -0.031758371740579605, 0.033655811101198196, 0.16096286475658417, 0.1390969604253769, 0.027995601296424866, -0.13377293944358826, 0.12887167930603027, 0.013751089572906494, -0.006873668171465397, 0.00709649920463562, 0.11675457656383514, 0.15210461616516113, -0.17282603681087494, 0.1363314986228943], [-0.021830931305885315, -0.08976081758737564, 0.09755663573741913, -0.06610499322414398, 0.03868521749973297, -0.14454981684684753, 0.1434485763311386, -0.06807968020439148, -0.0893368199467659, -0.09513299912214279, -0.025789901614189148, 0.09581409394741058, -0.047738298773765564, 0.03804454207420349, 0.14420382678508759, -0.1410406529903412, 0.0730343759059906, 0.1097562164068222, -0.055654384195804596, 0.1010051816701889, -0.025090351700782776, -0.10110794752836227, -0.06474921107292175, -0.10570566356182098, -0.16343091428279877, 0.0162571519613266, -0.1366548091173172, 0.1132594496011734, 0.024857476353645325, 0.0834619551897049, -0.05775956064462662, 0.030793681740760803], [0.0029659452848136425, -0.06198250874876976, 0.016640692949295044, 0.1129923015832901, -0.19217602908611298, 0.06345340609550476, -0.0547030046582222, 0.08497239649295807, 0.054266780614852905, 0.03295574337244034, -0.07849153131246567, 0.16424764692783356, -0.08174385875463486, 0.09771223366260529, 0.05307602882385254, 0.08718694746494293, 0.11157730221748352, 0.17601265013217926, -0.021258726716041565, 0.13778850436210632, 0.03623874485492706, -0.060672663152217865, -0.11544942855834961, 0.0960879921913147, 0.11370408535003662, 0.06856341660022736, -0.16339188814163208, -0.09128475934267044, -0.056029826402664185, -0.012149522081017494, -0.09414158016443253, 0.05335581675171852], [-0.09652037173509598, 0.08811976760625839, 0.16002286970615387, -0.08253101259469986, 0.0242978073656559, -0.16390205919742584, -0.03940419852733612, -0.022465258836746216, 0.008521631360054016, 0.030111314728856087, -0.16052164137363434, -0.1056295707821846, -0.21181440353393555, 0.11874713003635406, 0.06312063336372375, 0.04054231941699982, 0.041359420865774155, -0.08453275263309479, -0.19182276725769043, -0.09735643863677979, 0.12568338215351105, 0.08343528211116791, -0.17225168645381927, 0.10081381350755692, 0.08279339224100113, -0.12203415483236313, -0.012568244710564613, 0.17053668200969696, 0.055349186062812805, -0.024063779041171074, -0.08337116241455078, 0.11147747188806534], [-0.1177273765206337, -0.02610083855688572, 0.03131625056266785, -0.03248527646064758, 0.03000149503350258, -0.06105396896600723, 0.052812233567237854, -0.14387044310569763, -0.12156032025814056, 0.048807743936777115, 0.10130707919597626, -0.017980575561523438, -0.12521274387836456, 0.1710195094347, -0.03776863217353821, 0.05975676700472832, -0.006347425282001495, -0.04978124797344208, 0.04551466926932335, 0.1603352576494217, 0.16798709332942963, -0.0767606869339943, -0.014307871460914612, 0.1349731832742691, 0.08577410131692886, 0.17387475073337555, -0.06588315963745117, 0.13602305948734283, 0.017435222864151, -0.05136020481586456, -0.04269258677959442, -0.04906236007809639], [0.14649724960327148, -0.009104776196181774, -0.13188378512859344, 0.14086754620075226, -0.03950885683298111, 0.022596091032028198, -0.10466615110635757, -0.12583501636981964, 0.13982917368412018, 0.056077878922224045, 0.04744934290647507, -0.08071994036436081, 0.007391424849629402, 0.04341675341129303, -0.0010630488395690918, -0.06492982804775238, 0.04361512139439583, -0.1573624461889267, 0.08943857997655869, 0.12616388499736786, -0.04888640344142914, 0.10952909290790558, -0.06844418495893478, 0.1679769903421402, -0.06311527639627457, 0.02691301703453064, 0.1650899201631546, 0.11547090113162994, 0.0361979603767395, -0.15666188299655914, -0.12683404982089996, 0.05533133074641228], [-0.05467665195465088, -0.009348376654088497, -0.07019705325365067, 0.07900302112102509, 0.10054251551628113, -0.03271616995334625, 0.063256174325943, 0.042562901973724365, -0.06147393584251404, -0.045092638581991196, 0.11061926931142807, -0.06711719185113907, -0.029101978987455368, -0.10161000490188599, -0.12531158328056335, -0.02912311628460884, -0.00045495826634578407, 0.019487738609313965, -0.13952864706516266, -0.14550910890102386, -0.003903895616531372, 0.12057571113109589, -0.03918220102787018, -0.15085232257843018, -0.0766596868634224, 0.1686754673719406, -0.02326192706823349, 0.010018303990364075, -0.14075398445129395, 0.1209707111120224, 0.08741985261440277, 0.060019463300704956], [0.031424734741449356, -0.11914603412151337, 0.04121012985706329, 0.07933379709720612, -0.13269096612930298, 0.002383217215538025, 0.11840574443340302, -0.04607918858528137, 0.09887658059597015, 0.09723644703626633, -0.08053115010261536, -0.09465084224939346, 0.05892551690340042, 0.054271310567855835, 0.04489210247993469, 0.05574667826294899, -0.2000425010919571, 0.17210842669010162, -0.0665966048836708, 0.007934942841529846, 0.15194754302501678, 0.15574617683887482, 0.15606845915317535, -0.0732639729976654, -0.0878196582198143, -0.05566184222698212, -0.14970751106739044, -0.10582386702299118, -0.003341302275657654, -0.11531263589859009, -0.1140538826584816, -0.05747725069522858], [0.016629444435238838, 0.07135370373725891, -0.0848705992102623, -0.16668391227722168, -0.03535401076078415, -0.16576726734638214, -0.09559786319732666, 0.1639886349439621, -0.1190788745880127, 0.1226949691772461, 0.17875432968139648, 0.14236567914485931, 0.11867017298936844, 0.007362425327301025, 0.10823939740657806, -0.11518233269453049, 0.1067831739783287, 0.14075125753879547, -0.011999803595244884, -0.13862675428390503, 0.089858278632164, -0.0007326602935791016, -0.15089529752731323, 0.1745188683271408, 0.11992735415697098, -0.13634160161018372, 0.10424215346574783, -0.010140493512153625, 0.0641123354434967, 0.03282223269343376, 0.027589932084083557, 0.07769361138343811], [0.11800365149974823, 0.07958130538463593, -0.009066402912139893, -0.08736563473939896, -0.15639038383960724, 0.038454681634902954, -0.044620662927627563, 0.00023205578327178955, 0.09361736476421356, -0.17526260018348694, 0.11803735047578812, -0.13414445519447327, 0.009771659038960934, 0.11630646884441376, -0.028095975518226624, -0.05587593466043472, -0.04256415739655495, -0.013302728533744812, -0.07605903595685959, 0.12283165752887726, 0.011310786008834839, -0.1134977713227272, -0.10805747658014297, 0.0018516366835683584, -0.11598466336727142, -0.009166449308395386, -0.049244269728660583, -0.0047860294580459595, 0.14154838025569916, -0.1736995428800583, -0.05866897851228714, -0.0012417103862389922], [-0.046917181462049484, -0.11741811037063599, 0.11474229395389557, 0.16329486668109894, 0.15490317344665527, 0.013199850916862488, -0.09715183824300766, 0.10319344699382782, -0.050430119037628174, 0.12112826853990555, -0.13867688179016113, 0.06708642840385437, -0.038817599415779114, 0.11799617111682892, -0.13423174619674683, 0.05224305018782616, 0.008906682021915913, 0.0045164525508880615, 0.016616323962807655, -0.05428016930818558, -0.11583547294139862, 0.06998859345912933, -0.025392204523086548, -0.10424379259347916, -0.09598313271999359, -0.15214982628822327, -0.057024743407964706, -0.019157111644744873, 0.032616496086120605, 0.04605395719408989, 0.052770987153053284, -0.12680254876613617], [-0.030566047877073288, 0.2229292094707489, 0.033500149846076965, -0.15462864935398102, -0.010934965685009956, -0.0674121156334877, 0.0629982054233551, -0.02296946942806244, 0.07934553921222687, 0.16878962516784668, -0.07886175066232681, -0.036913514137268066, 0.1116047129034996, 0.03451094031333923, 0.022501587867736816, 0.08110220730304718, 0.021544842049479485, 0.14137564599514008, -0.053663842380046844, -0.08119814097881317, -0.07214689254760742, 0.06389723718166351, 0.08873741328716278, 0.114334836602211, 0.09383673965930939, 0.06809976696968079, 0.24258987605571747, -0.148916557431221, 0.06132400035858154, 0.04694372043013573, -0.15319767594337463, -0.08674227446317673], [-0.15428604185581207, -0.18599765002727509, 0.1306595355272293, 0.027498289942741394, -0.04633054509758949, 0.15232084691524506, -0.11825864017009735, -0.06984314322471619, -0.1405712068080902, 0.02153429202735424, 0.15706108510494232, 0.07146212458610535, -0.02210729382932186, 0.05847904086112976, 0.09704266488552094, 0.08197969943284988, -0.12837573885917664, -0.09406550228595734, -0.1586400866508484, -0.17605780065059662, 0.06577083468437195, -0.1269795298576355, 0.15434594452381134, 0.0814712792634964, 0.009507560171186924, 0.04719330370426178, -0.06927230209112167, 0.09557066857814789, 0.12259112298488617, -0.12435498088598251, 0.06711196899414062, 0.09650316834449768], [-0.024179264903068542, -0.09993215650320053, 0.0591389536857605, -0.05521649867296219, -0.042758941650390625, -0.09920430183410645, -0.0746234804391861, 0.02496662735939026, 0.08112816512584686, 0.0010211169719696045, 0.12628068029880524, -0.09691359847784042, -0.05604639649391174, -0.026009857654571533, 0.1734056919813156, -0.11143913120031357, -0.07393006235361099, -0.04773275554180145, 0.021090373396873474, 0.07366012036800385, -0.12367516756057739, -0.06496858596801758, -0.021182388067245483, -0.06535905599594116, 0.06964020431041718, 0.1302647441625595, -0.10704268515110016, 0.12247087061405182, -0.08928050845861435, 0.07690955698490143, 0.0960535854101181, -0.1622968316078186], [-0.06854725629091263, -0.03266638517379761, -0.08553396910429001, -0.028627127408981323, 0.07126593589782715, 0.13359110057353973, 0.10666902363300323, -0.029505863785743713, 0.11869682371616364, -0.10749178379774094, -0.08257821202278137, 0.08253990113735199, -0.13277287781238556, 0.11627630889415741, -0.1628897488117218, 0.14919157326221466, 0.0032536983489990234, -0.026137664914131165, -0.05516476929187775, 0.12002475559711456, 0.16536130011081696, 0.1260232776403427, -0.17282766103744507, -0.12124963104724884, -0.16612297296524048, 0.09356240928173065, 0.06454260647296906, 0.07844005525112152, 0.007230609655380249, 0.048774465918540955, 0.03459759056568146, -0.1708436757326126], [-0.06759003549814224, -0.026897503063082695, -0.09516467154026031, -0.11243337392807007, 0.08938595652580261, 0.1474558264017105, -0.1570911705493927, 0.0298348069190979, 0.10241489112377167, 0.011826756410300732, -0.07082980126142502, -0.1274339258670807, -0.10041769593954086, 0.004003450274467468, 0.16582231223583221, -0.1690029501914978, -0.045346699655056, 0.1312103122472763, -0.17825347185134888, -0.17366909980773926, -0.17298948764801025, -0.046083003282547, 0.10703183710575104, 0.053861796855926514, 0.015631210058927536, -0.013281524181365967, 0.15129804611206055, -0.1403646618127823, -0.06823382526636124, -0.058524224907159805, -0.03968629240989685, -0.18993230164051056], [-0.15569140017032623, 0.029652006924152374, -0.12779134511947632, 0.07358740270137787, -0.06460369378328323, 0.09300456941127777, -0.02632036805152893, -0.14507703483104706, 0.09109590947628021, -0.14033089578151703, 0.058352552354335785, -0.1322469860315323, -0.014310662634670734, 0.07400287687778473, -0.051748260855674744, -0.16515551507472992, 0.11119247227907181, -0.007802203297615051, -0.012859158217906952, 0.002986191539093852, 0.025173991918563843, 0.11467613279819489, -0.09800547361373901, 0.03497052192687988, 0.037389058619737625, 0.14074625074863434, 0.040912117809057236, 0.012804806232452393, 0.053642526268959045, 0.029571378603577614, -0.10681518167257309, 0.03489810973405838], [-0.021948575973510742, -0.03749670088291168, -0.06498188525438309, 0.1515732854604721, -0.11497841775417328, 0.01837809383869171, 0.044838160276412964, -0.13067467510700226, 0.0699988305568695, -0.146926611661911, -0.16992901265621185, -0.06967820227146149, -0.10268786549568176, -0.12343627214431763, 0.1282842606306076, 0.09369193017482758, 0.07255794107913971, -0.042251020669937134, 0.17445789277553558, -0.11122456192970276, 0.11093036830425262, -0.020069405436515808, -0.11446978151798248, 0.12292738258838654, -0.035792142152786255, -0.1554485708475113, 0.1463535577058792, -0.10676245391368866, -0.09966220706701279, 0.16880463063716888, -0.10912775993347168, -0.1099967211484909]], [0.06871886551380157, 0.058082688599824905, 0.05409052595496178, 0.002291657729074359, -0.11831800639629364, 0.15373259782791138, 0.02717111073434353, -0.05657919496297836, -0.142732635140419, 0.043218184262514114, -0.01284646987915039, 0.11252064257860184, 0.006570771336555481, -0.18008370697498322, 0.12251917272806168, -0.042600587010383606, -0.09195426106452942, -0.18426428735256195, 0.021019073203206062, 0.09835103154182434, -0.002911805873736739, 0.13197734951972961, 0.1536276787519455, 0.0522787980735302, 0.10742221772670746, 0.22381731867790222, 0.07711256295442581, 0.12266318500041962, 0.12374643981456757, 0.12112366408109665, -0.0360843762755394, 0.1553732007741928], [[0.1801498532295227, 0.0717407763004303, -0.02219960279762745, -0.11024916917085648, -0.0231311172246933, 0.2301812767982483, -0.08752903342247009, 0.04769223555922508, 0.002104983665049076, 0.0020064578857272863, 0.13676781952381134, 0.08939023315906525, -0.020490704104304314, 0.12473750114440918, 0.2389625459909439, 0.139578714966774, 0.06303541362285614, 0.07125069200992584, -0.12571929395198822, 0.14012646675109863, -0.10019868612289429, 0.030642742291092873, 0.0078346012160182, -0.0929793044924736, -0.1127876415848732, 0.01698627695441246, -0.1380091905593872, -0.08849997073411942, -0.06228010356426239, 0.04580816999077797, -0.05698191747069359, -0.007112577557563782], [-0.15195783972740173, -0.126234233379364, -0.12370683997869492, 0.08997007459402084, -0.12741738557815552, -0.010640345513820648, 0.06928722560405731, -0.2254406213760376, 0.09966975450515747, -0.00701644504442811, 0.016680032014846802, 0.07561040669679642, -0.03065369464457035, -0.06437356024980545, 0.08822362869977951, -0.10941148549318314, 0.08690101653337479, 0.08080575615167618, -0.052585385739803314, -0.03333708643913269, 0.06067032366991043, 0.12801019847393036, -0.216632679104805, 0.09373746067285538, 0.008397897705435753, -0.24735312163829803, -0.002751762978732586, -0.07000968605279922, -0.04455749690532684, -0.03071850910782814, 0.1359863132238388, 0.021042674779891968], [-0.1405995488166809, 0.09086891263723373, -0.004477680195122957, 0.052748557180166245, 0.04537740349769592, 0.08185549825429916, 0.013025155290961266, -0.12746502459049225, 0.1006755381822586, -0.008830421604216099, -0.12363684922456741, 0.07028330117464066, 0.11470119655132294, 0.10133443772792816, 0.13538822531700134, -0.1480177342891693, 0.07160639017820358, 0.052770908921957016, -0.08842387795448303, 0.12504540383815765, 0.010844681411981583, 0.133869469165802, 0.08152595907449722, -0.17689888179302216, 0.07525899261236191, 0.0850725769996643, -0.06255363672971725, 0.0069473981857299805, 0.011993110179901123, -0.024979421868920326, 0.05720095708966255, -0.06415296345949173]], [-0.10516366362571716, -0.2000153362751007, 0.01145462691783905]]\n"
     ]
    }
   ],
   "source": [
    "model_dict = model.state_dict()\n",
    "# dict_model = temp_model.state_dict()\n",
    "\n",
    "# print(model_dict.keys())\n",
    "actor_parameter = []\n",
    "for key in model_dict.keys():\n",
    "    if key.find('actor')>=0:\n",
    "        print(True,key)\n",
    "        actor_parameter.append(model_dict[key].tolist())\n",
    "# print(actor_parameter)\n",
    "# torch.save(actor_parameter,'actor_model.pth')\n",
    "# import json\n",
    "# with open('actor_patameter.txt','w+') as f:\n",
    "#     f.write(json.dumps(actor_parameter))\n",
    "\n"
   ]
  },
  {
   "cell_type": "code",
   "execution_count": 25,
   "metadata": {
    "tags": []
   },
   "outputs": [],
   "source": [
    "# res_rewards = []\n",
    "# for _ in range(100):\n",
    "#     res_rewards.append(test_env(False))\n",
    "# print(res_rewards)\n",
    "# print(np.mean(res_rewards))"
   ]
  },
  {
   "cell_type": "code",
   "execution_count": null,
   "metadata": {},
   "outputs": [],
   "source": []
  }
 ],
 "metadata": {
  "kernelspec": {
   "name": "python363jvsc74a57bd07a29bcb23a0ab4b628de1ef28bf000c8e312015eb828f1870c9d55726cf27100",
   "display_name": "Python 3.6.3 64-bit ('torch_3.6.3')"
  },
  "language_info": {
   "codemirror_mode": {
    "name": "ipython",
    "version": 3
   },
   "file_extension": ".py",
   "mimetype": "text/x-python",
   "name": "python",
   "nbconvert_exporter": "python",
   "pygments_lexer": "ipython3",
   "version": "3.6.3-final"
  }
 },
 "nbformat": 4,
 "nbformat_minor": 2
}