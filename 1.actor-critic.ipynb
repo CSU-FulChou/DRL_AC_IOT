{
 "cells": [
  {
   "cell_type": "code",
   "execution_count": 27,
   "metadata": {},
   "outputs": [],
   "source": [
    "import math\n",
    "import random\n",
    "\n",
    "import gym\n",
    "import numpy as np\n",
    "\n",
    "import torch\n",
    "import torch.nn as nn\n",
    "import torch.optim as optim\n",
    "import torch.nn.functional as F\n",
    "from torch.distributions import Categorical"
   ]
  },
  {
   "cell_type": "code",
   "execution_count": 28,
   "metadata": {},
   "outputs": [],
   "source": [
    "from IPython.display import clear_output\n",
    "import matplotlib.pyplot as plt\n",
    "%matplotlib inline\n",
    "import time"
   ]
  },
  {
   "cell_type": "markdown",
   "metadata": {},
   "source": [
    "<h2>Use CUDA</h2>"
   ]
  },
  {
   "cell_type": "code",
   "execution_count": 29,
   "metadata": {},
   "outputs": [],
   "source": [
    "use_cuda = torch.cuda.is_available()\n",
    "device   = torch.device(\"cuda\" if use_cuda else \"cpu\")"
   ]
  },
  {
   "cell_type": "markdown",
   "metadata": {},
   "source": [
    "<h2>Create Environments</h2>"
   ]
  },
  {
   "cell_type": "code",
   "execution_count": 30,
   "metadata": {},
   "outputs": [],
   "source": [
    "\n",
    "from common.multiprocessing_env import SubprocVecEnv\n",
    "\n",
    "num_envs = 2\n",
    "env_name = \"CartPole-v0\"\n",
    "\n",
    "\n",
    "def make_env():\n",
    "    def _thunk():\n",
    "        env = gym.make(env_name)\n",
    "        return env\n",
    "\n",
    "    return _thunk\n",
    "\n",
    "envs = [make_env() for i in range(num_envs)]\n",
    "envs = SubprocVecEnv(envs)\n",
    "\n",
    "env = gym.make(env_name)"
   ]
  },
  {
   "cell_type": "markdown",
   "metadata": {},
   "source": [
    "<h2>Neural Network</h2>"
   ]
  },
  {
   "cell_type": "code",
   "execution_count": 31,
   "metadata": {},
   "outputs": [],
   "source": [
    "class ActorCritic(nn.Module):\n",
    "    def __init__(self, num_inputs, num_outputs, hidden_size, std=0.0):\n",
    "        super(ActorCritic, self).__init__()\n",
    "        \n",
    "        self.critic = nn.Sequential(\n",
    "            nn.Linear(num_inputs, hidden_size),\n",
    "            nn.ReLU(),\n",
    "            nn.Linear(hidden_size, hidden_size),\n",
    "            nn.ReLU(),\n",
    "            nn.Linear(hidden_size, 1)\n",
    "        )\n",
    "        \n",
    "        # self.actor = nn.Sequential(\n",
    "        #     nn.Linear(num_inputs, hidden_size),\n",
    "        #     nn.ReLU(),\n",
    "        #     nn.Linear(hidden_size, num_outputs),\n",
    "        #     nn.Softmax(dim=1),\n",
    "        # )\n",
    "\n",
    "        self.actor = nn.Sequential(\n",
    "            nn.Linear(num_inputs, hidden_size),\n",
    "            nn.ReLU(),\n",
    "            nn.Linear(hidden_size, hidden_size),\n",
    "            nn.ReLU(),\n",
    "            nn.Linear(hidden_size, num_outputs),\n",
    "            nn.Softmax(dim=1),\n",
    "        )\n",
    "        \n",
    "    def forward(self, x):\n",
    "        value = self.critic(x)\n",
    "        probs = self.actor(x)\n",
    "        dist  = Categorical(probs)\n",
    "        return dist, value"
   ]
  },
  {
   "cell_type": "code",
   "execution_count": 32,
   "metadata": {},
   "outputs": [],
   "source": [
    "def plot(frame_idx, rewards):\n",
    "    clear_output(True)\n",
    "    plt.figure(figsize=(20,5))\n",
    "    plt.subplot(131)\n",
    "    plt.title('frame %s. reward: %s' % (frame_idx, rewards[-1]))\n",
    "    plt.plot(rewards)\n",
    "    # plt.savefig('frame %s. reward: %s.jpg' % (frame_idx, rewards[-1]))\n",
    "    plt.show()\n",
    "    \n",
    "    \n",
    "def test_env(vis=False):\n",
    "    state = env.reset()\n",
    "    if vis: env.render()\n",
    "    done = False\n",
    "    total_reward = 0\n",
    "    while not done:\n",
    "        state = torch.FloatTensor(state).unsqueeze(0).to(device)\n",
    "        dist, _ = model(state)\n",
    "        next_state, reward, done, _ = env.step(dist.sample().cpu().numpy()[0])\n",
    "        state = next_state\n",
    "        if vis: env.render()\n",
    "        total_reward += reward\n",
    "    return total_reward"
   ]
  },
  {
   "cell_type": "markdown",
   "metadata": {},
   "source": [
    "<h1>A2C: Synchronous Advantage Actor Critic</h1>\n",
    "<h3><a href=\"https://blog.openai.com/baselines-acktr-a2c/#a2canda3c\">OpenAI Blog:</a></h3>\n",
    "<p>The Asynchronous Advantage Actor Critic method (A3C) has been very influential since the paper was published. The algorithm combines a few key ideas:</p>\n",
    "\n",
    "<ul>\n",
    "    <li>An updating scheme that operates on fixed-length segments of experience (say, 20 timesteps) and uses these segments to compute estimators of the returns and advantage function.</li>\n",
    "    <li>Architectures that share layers between the policy and value function.</li>\n",
    "    <li>Asynchronous updates.</li>\n",
    "</ul>\n",
    "\n",
    "<p>After reading the paper, AI researchers wondered whether the asynchrony led to improved performance (e.g. “perhaps the added noise would provide some regularization or exploration?“), or if it was just an implementation detail that allowed for faster training with a CPU-based implementation.</p>\n",
    "\n",
    "<p>As an alternative to the asynchronous implementation, researchers found you can write a synchronous, deterministic implementation that waits for each actor to finish its segment of experience before performing an update, averaging over all of the actors. One advantage of this method is that it can more effectively use of GPUs, which perform best with large batch sizes. This algorithm is naturally called A2C, short for advantage actor critic. (This term has been used in several papers.)</p>"
   ]
  },
  {
   "cell_type": "code",
   "execution_count": 33,
   "metadata": {},
   "outputs": [],
   "source": [
    "def compute_returns(next_value, rewards, masks, gamma=0.99):\n",
    "    R = next_value\n",
    "    returns = []\n",
    "    for step in reversed(range(len(rewards))):\n",
    "        R = rewards[step] + gamma * R * masks[step]\n",
    "        returns.insert(0, R)\n",
    "    return returns"
   ]
  },
  {
   "cell_type": "code",
   "execution_count": 34,
   "metadata": {},
   "outputs": [],
   "source": [
    "num_inputs  = envs.observation_space.shape[0]\n",
    "num_outputs = envs.action_space.n\n",
    "\n",
    "#Hyper params:\n",
    "hidden_size = 64\n",
    "lr          = 3e-4\n",
    "num_steps   = 5\n",
    "\n",
    "model = ActorCritic(num_inputs, num_outputs, hidden_size).to(device)\n",
    "optimizer = optim.Adam(model.parameters(),lr=lr)"
   ]
  },
  {
   "cell_type": "code",
   "execution_count": 35,
   "metadata": {},
   "outputs": [],
   "source": [
    "max_frames   = 20000\n",
    "frame_idx    = 0\n",
    "test_rewards = []"
   ]
  },
  {
   "cell_type": "code",
   "execution_count": 36,
   "metadata": {
    "tags": []
   },
   "outputs": [
    {
     "output_type": "display_data",
     "data": {
      "text/plain": "<Figure size 1440x360 with 1 Axes>",
      "image/svg+xml": "<?xml version=\"1.0\" encoding=\"utf-8\" standalone=\"no\"?>\n<!DOCTYPE svg PUBLIC \"-//W3C//DTD SVG 1.1//EN\"\n  \"http://www.w3.org/Graphics/SVG/1.1/DTD/svg11.dtd\">\n<!-- Created with matplotlib (https://matplotlib.org/) -->\n<svg height=\"315.528125pt\" version=\"1.1\" viewBox=\"0 0 364.635294 315.528125\" width=\"364.635294pt\" xmlns=\"http://www.w3.org/2000/svg\" xmlns:xlink=\"http://www.w3.org/1999/xlink\">\n <metadata>\n  <rdf:RDF xmlns:cc=\"http://creativecommons.org/ns#\" xmlns:dc=\"http://purl.org/dc/elements/1.1/\" xmlns:rdf=\"http://www.w3.org/1999/02/22-rdf-syntax-ns#\">\n   <cc:Work>\n    <dc:type rdf:resource=\"http://purl.org/dc/dcmitype/StillImage\"/>\n    <dc:date>2021-05-15T10:41:04.337541</dc:date>\n    <dc:format>image/svg+xml</dc:format>\n    <dc:creator>\n     <cc:Agent>\n      <dc:title>Matplotlib v3.3.2, https://matplotlib.org/</dc:title>\n     </cc:Agent>\n    </dc:creator>\n   </cc:Work>\n  </rdf:RDF>\n </metadata>\n <defs>\n  <style type=\"text/css\">*{stroke-linecap:butt;stroke-linejoin:round;}</style>\n </defs>\n <g id=\"figure_1\">\n  <g id=\"patch_1\">\n   <path d=\"M 0 315.528125 \nL 364.635294 315.528125 \nL 364.635294 0 \nL 0 0 \nz\n\" style=\"fill:none;\"/>\n  </g>\n  <g id=\"axes_1\">\n   <g id=\"patch_2\">\n    <path d=\"M 29.2 293.203125 \nL 357.435294 293.203125 \nL 357.435294 21.403125 \nL 29.2 21.403125 \nz\n\" style=\"fill:#ffffff;\"/>\n   </g>\n   <g id=\"matplotlib.axis_1\">\n    <g id=\"xtick_1\">\n     <g id=\"line2d_1\">\n      <defs>\n       <path d=\"M 0 0 \nL 0 3.5 \n\" id=\"mce5177838b\" style=\"stroke:#000000;stroke-width:0.8;\"/>\n      </defs>\n      <g>\n       <use style=\"stroke:#000000;stroke-width:0.8;\" x=\"44.119786\" xlink:href=\"#mce5177838b\" y=\"293.203125\"/>\n      </g>\n     </g>\n     <g id=\"text_1\">\n      <!-- 0.0 -->\n      <g transform=\"translate(36.619786 307.039062)scale(0.1 -0.1)\">\n       <defs>\n        <path d=\"M 46.484375 35.15625 \nQ 46.484375 21.09375 41.40625 10.9375 \nQ 36.328125 0.78125 25 0.78125 \nQ 13.671875 0.78125 8.390625 10.9375 \nQ 3.125 21.09375 3.125 35.15625 \nQ 3.125 49.21875 8.390625 59.171875 \nQ 13.671875 69.140625 25 69.140625 \nQ 36.328125 69.140625 41.40625 59.171875 \nQ 46.484375 49.21875 46.484375 35.15625 \nz\nM 37.109375 35.15625 \nQ 37.109375 47.65625 34.171875 54.6875 \nQ 31.25 61.71875 25 61.71875 \nQ 18.75 61.71875 15.625 54.6875 \nQ 12.5 47.65625 12.5 35.15625 \nQ 12.5 22.65625 15.625 15.421875 \nQ 18.75 8.203125 25 8.203125 \nQ 31.25 8.203125 34.171875 15.421875 \nQ 37.109375 22.65625 37.109375 35.15625 \nz\n\" id=\"SimHei-48\"/>\n        <path d=\"M 17.1875 1.5625 \nL 8.203125 1.5625 \nL 8.203125 10.15625 \nL 17.1875 10.15625 \nz\n\" id=\"SimHei-46\"/>\n       </defs>\n       <use xlink:href=\"#SimHei-48\"/>\n       <use x=\"50\" xlink:href=\"#SimHei-46\"/>\n       <use x=\"100\" xlink:href=\"#SimHei-48\"/>\n      </g>\n     </g>\n    </g>\n    <g id=\"xtick_2\">\n     <g id=\"line2d_2\">\n      <g>\n       <use style=\"stroke:#000000;stroke-width:0.8;\" x=\"83.382381\" xlink:href=\"#mce5177838b\" y=\"293.203125\"/>\n      </g>\n     </g>\n     <g id=\"text_2\">\n      <!-- 2.5 -->\n      <g transform=\"translate(75.882381 307.039062)scale(0.1 -0.1)\">\n       <defs>\n        <path d=\"M 44.53125 1.5625 \nL 4.6875 1.5625 \nL 4.6875 7.8125 \nQ 7.03125 14.0625 11.125 19.328125 \nQ 15.234375 24.609375 23.046875 31.25 \nQ 28.90625 36.328125 31.4375 40.625 \nQ 33.984375 44.921875 33.984375 50 \nQ 33.984375 55.078125 31.828125 58.390625 \nQ 29.6875 61.71875 25 61.71875 \nQ 21.09375 61.71875 18.15625 58.203125 \nQ 15.234375 54.6875 15.234375 45.703125 \nL 6.25 45.703125 \nQ 6.640625 57.03125 11.515625 63.078125 \nQ 16.40625 69.140625 25.390625 69.140625 \nQ 33.984375 69.140625 38.671875 63.859375 \nQ 43.359375 58.59375 43.359375 49.609375 \nQ 43.359375 42.1875 39.0625 36.71875 \nQ 34.765625 31.25 28.515625 25.78125 \nQ 21.484375 19.53125 18.75 16.40625 \nQ 16.015625 13.28125 13.671875 8.984375 \nL 44.53125 8.984375 \nz\n\" id=\"SimHei-50\"/>\n        <path d=\"M 44.140625 25.78125 \nQ 44.140625 14.0625 38.46875 7.421875 \nQ 32.8125 0.78125 23.4375 0.78125 \nQ 15.234375 0.78125 9.953125 6.25 \nQ 4.6875 11.71875 4.296875 21.09375 \nL 13.28125 21.09375 \nQ 13.28125 15.234375 16.015625 11.71875 \nQ 18.75 8.203125 23.828125 8.203125 \nQ 28.90625 8.203125 31.828125 12.5 \nQ 34.765625 16.796875 34.765625 25.78125 \nQ 34.765625 33.59375 32.21875 37.296875 \nQ 29.6875 41.015625 25.390625 41.015625 \nQ 21.875 41.015625 19.328125 39.453125 \nQ 16.796875 37.890625 14.453125 33.984375 \nL 6.640625 33.984375 \nL 8.984375 68.359375 \nL 42.578125 68.359375 \nL 42.578125 60.9375 \nL 16.40625 60.9375 \nL 14.84375 42.96875 \nQ 17.1875 45.3125 19.921875 46.484375 \nQ 22.65625 47.65625 27.34375 47.65625 \nQ 34.765625 47.65625 39.453125 41.984375 \nQ 44.140625 36.328125 44.140625 25.78125 \nz\n\" id=\"SimHei-53\"/>\n       </defs>\n       <use xlink:href=\"#SimHei-50\"/>\n       <use x=\"50\" xlink:href=\"#SimHei-46\"/>\n       <use x=\"100\" xlink:href=\"#SimHei-53\"/>\n      </g>\n     </g>\n    </g>\n    <g id=\"xtick_3\">\n     <g id=\"line2d_3\">\n      <g>\n       <use style=\"stroke:#000000;stroke-width:0.8;\" x=\"122.644976\" xlink:href=\"#mce5177838b\" y=\"293.203125\"/>\n      </g>\n     </g>\n     <g id=\"text_3\">\n      <!-- 5.0 -->\n      <g transform=\"translate(115.144976 307.039062)scale(0.1 -0.1)\">\n       <use xlink:href=\"#SimHei-53\"/>\n       <use x=\"50\" xlink:href=\"#SimHei-46\"/>\n       <use x=\"100\" xlink:href=\"#SimHei-48\"/>\n      </g>\n     </g>\n    </g>\n    <g id=\"xtick_4\">\n     <g id=\"line2d_4\">\n      <g>\n       <use style=\"stroke:#000000;stroke-width:0.8;\" x=\"161.907571\" xlink:href=\"#mce5177838b\" y=\"293.203125\"/>\n      </g>\n     </g>\n     <g id=\"text_4\">\n      <!-- 7.5 -->\n      <g transform=\"translate(154.407571 307.039062)scale(0.1 -0.1)\">\n       <defs>\n        <path d=\"M 43.359375 60.15625 \nL 25 1.5625 \nL 16.015625 1.5625 \nL 34.765625 60.9375 \nL 6.25 60.9375 \nL 6.25 68.359375 \nL 43.359375 68.359375 \nz\n\" id=\"SimHei-55\"/>\n       </defs>\n       <use xlink:href=\"#SimHei-55\"/>\n       <use x=\"50\" xlink:href=\"#SimHei-46\"/>\n       <use x=\"100\" xlink:href=\"#SimHei-53\"/>\n      </g>\n     </g>\n    </g>\n    <g id=\"xtick_5\">\n     <g id=\"line2d_5\">\n      <g>\n       <use style=\"stroke:#000000;stroke-width:0.8;\" x=\"201.170166\" xlink:href=\"#mce5177838b\" y=\"293.203125\"/>\n      </g>\n     </g>\n     <g id=\"text_5\">\n      <!-- 10.0 -->\n      <g transform=\"translate(191.170166 307.039062)scale(0.1 -0.1)\">\n       <defs>\n        <path d=\"M 30.46875 1.5625 \nL 21.484375 1.5625 \nL 21.484375 53.515625 \nL 9.765625 53.515625 \nL 9.765625 58.203125 \nQ 16.796875 58.203125 20.703125 60.9375 \nQ 24.609375 63.671875 25.78125 69.140625 \nL 30.46875 69.140625 \nz\n\" id=\"SimHei-49\"/>\n       </defs>\n       <use xlink:href=\"#SimHei-49\"/>\n       <use x=\"50\" xlink:href=\"#SimHei-48\"/>\n       <use x=\"100\" xlink:href=\"#SimHei-46\"/>\n       <use x=\"150\" xlink:href=\"#SimHei-48\"/>\n      </g>\n     </g>\n    </g>\n    <g id=\"xtick_6\">\n     <g id=\"line2d_6\">\n      <g>\n       <use style=\"stroke:#000000;stroke-width:0.8;\" x=\"240.432761\" xlink:href=\"#mce5177838b\" y=\"293.203125\"/>\n      </g>\n     </g>\n     <g id=\"text_6\">\n      <!-- 12.5 -->\n      <g transform=\"translate(230.432761 307.039062)scale(0.1 -0.1)\">\n       <use xlink:href=\"#SimHei-49\"/>\n       <use x=\"50\" xlink:href=\"#SimHei-50\"/>\n       <use x=\"100\" xlink:href=\"#SimHei-46\"/>\n       <use x=\"150\" xlink:href=\"#SimHei-53\"/>\n      </g>\n     </g>\n    </g>\n    <g id=\"xtick_7\">\n     <g id=\"line2d_7\">\n      <g>\n       <use style=\"stroke:#000000;stroke-width:0.8;\" x=\"279.695356\" xlink:href=\"#mce5177838b\" y=\"293.203125\"/>\n      </g>\n     </g>\n     <g id=\"text_7\">\n      <!-- 15.0 -->\n      <g transform=\"translate(269.695356 307.039062)scale(0.1 -0.1)\">\n       <use xlink:href=\"#SimHei-49\"/>\n       <use x=\"50\" xlink:href=\"#SimHei-53\"/>\n       <use x=\"100\" xlink:href=\"#SimHei-46\"/>\n       <use x=\"150\" xlink:href=\"#SimHei-48\"/>\n      </g>\n     </g>\n    </g>\n    <g id=\"xtick_8\">\n     <g id=\"line2d_8\">\n      <g>\n       <use style=\"stroke:#000000;stroke-width:0.8;\" x=\"318.957951\" xlink:href=\"#mce5177838b\" y=\"293.203125\"/>\n      </g>\n     </g>\n     <g id=\"text_8\">\n      <!-- 17.5 -->\n      <g transform=\"translate(308.957951 307.039062)scale(0.1 -0.1)\">\n       <use xlink:href=\"#SimHei-49\"/>\n       <use x=\"50\" xlink:href=\"#SimHei-55\"/>\n       <use x=\"100\" xlink:href=\"#SimHei-46\"/>\n       <use x=\"150\" xlink:href=\"#SimHei-53\"/>\n      </g>\n     </g>\n    </g>\n   </g>\n   <g id=\"matplotlib.axis_2\">\n    <g id=\"ytick_1\">\n     <g id=\"line2d_9\">\n      <defs>\n       <path d=\"M 0 0 \nL -3.5 0 \n\" id=\"m64e4741c09\" style=\"stroke:#000000;stroke-width:0.8;\"/>\n      </defs>\n      <g>\n       <use style=\"stroke:#000000;stroke-width:0.8;\" x=\"29.2\" xlink:href=\"#m64e4741c09\" y=\"271.345083\"/>\n      </g>\n     </g>\n     <g id=\"text_9\">\n      <!-- 25 -->\n      <g transform=\"translate(12.2 274.763052)scale(0.1 -0.1)\">\n       <use xlink:href=\"#SimHei-50\"/>\n       <use x=\"50\" xlink:href=\"#SimHei-53\"/>\n      </g>\n     </g>\n    </g>\n    <g id=\"ytick_2\">\n     <g id=\"line2d_10\">\n      <g>\n       <use style=\"stroke:#000000;stroke-width:0.8;\" x=\"29.2\" xlink:href=\"#m64e4741c09\" y=\"237.404024\"/>\n      </g>\n     </g>\n     <g id=\"text_10\">\n      <!-- 50 -->\n      <g transform=\"translate(12.2 240.821993)scale(0.1 -0.1)\">\n       <use xlink:href=\"#SimHei-53\"/>\n       <use x=\"50\" xlink:href=\"#SimHei-48\"/>\n      </g>\n     </g>\n    </g>\n    <g id=\"ytick_3\">\n     <g id=\"line2d_11\">\n      <g>\n       <use style=\"stroke:#000000;stroke-width:0.8;\" x=\"29.2\" xlink:href=\"#m64e4741c09\" y=\"203.462965\"/>\n      </g>\n     </g>\n     <g id=\"text_11\">\n      <!-- 75 -->\n      <g transform=\"translate(12.2 206.880934)scale(0.1 -0.1)\">\n       <use xlink:href=\"#SimHei-55\"/>\n       <use x=\"50\" xlink:href=\"#SimHei-53\"/>\n      </g>\n     </g>\n    </g>\n    <g id=\"ytick_4\">\n     <g id=\"line2d_12\">\n      <g>\n       <use style=\"stroke:#000000;stroke-width:0.8;\" x=\"29.2\" xlink:href=\"#m64e4741c09\" y=\"169.521906\"/>\n      </g>\n     </g>\n     <g id=\"text_12\">\n      <!-- 100 -->\n      <g transform=\"translate(7.2 172.939875)scale(0.1 -0.1)\">\n       <use xlink:href=\"#SimHei-49\"/>\n       <use x=\"50\" xlink:href=\"#SimHei-48\"/>\n       <use x=\"100\" xlink:href=\"#SimHei-48\"/>\n      </g>\n     </g>\n    </g>\n    <g id=\"ytick_5\">\n     <g id=\"line2d_13\">\n      <g>\n       <use style=\"stroke:#000000;stroke-width:0.8;\" x=\"29.2\" xlink:href=\"#m64e4741c09\" y=\"135.580847\"/>\n      </g>\n     </g>\n     <g id=\"text_13\">\n      <!-- 125 -->\n      <g transform=\"translate(7.2 138.998816)scale(0.1 -0.1)\">\n       <use xlink:href=\"#SimHei-49\"/>\n       <use x=\"50\" xlink:href=\"#SimHei-50\"/>\n       <use x=\"100\" xlink:href=\"#SimHei-53\"/>\n      </g>\n     </g>\n    </g>\n    <g id=\"ytick_6\">\n     <g id=\"line2d_14\">\n      <g>\n       <use style=\"stroke:#000000;stroke-width:0.8;\" x=\"29.2\" xlink:href=\"#m64e4741c09\" y=\"101.639788\"/>\n      </g>\n     </g>\n     <g id=\"text_14\">\n      <!-- 150 -->\n      <g transform=\"translate(7.2 105.057757)scale(0.1 -0.1)\">\n       <use xlink:href=\"#SimHei-49\"/>\n       <use x=\"50\" xlink:href=\"#SimHei-53\"/>\n       <use x=\"100\" xlink:href=\"#SimHei-48\"/>\n      </g>\n     </g>\n    </g>\n    <g id=\"ytick_7\">\n     <g id=\"line2d_15\">\n      <g>\n       <use style=\"stroke:#000000;stroke-width:0.8;\" x=\"29.2\" xlink:href=\"#m64e4741c09\" y=\"67.698729\"/>\n      </g>\n     </g>\n     <g id=\"text_15\">\n      <!-- 175 -->\n      <g transform=\"translate(7.2 71.116698)scale(0.1 -0.1)\">\n       <use xlink:href=\"#SimHei-49\"/>\n       <use x=\"50\" xlink:href=\"#SimHei-55\"/>\n       <use x=\"100\" xlink:href=\"#SimHei-53\"/>\n      </g>\n     </g>\n    </g>\n    <g id=\"ytick_8\">\n     <g id=\"line2d_16\">\n      <g>\n       <use style=\"stroke:#000000;stroke-width:0.8;\" x=\"29.2\" xlink:href=\"#m64e4741c09\" y=\"33.75767\"/>\n      </g>\n     </g>\n     <g id=\"text_16\">\n      <!-- 200 -->\n      <g transform=\"translate(7.2 37.175639)scale(0.1 -0.1)\">\n       <use xlink:href=\"#SimHei-50\"/>\n       <use x=\"50\" xlink:href=\"#SimHei-48\"/>\n       <use x=\"100\" xlink:href=\"#SimHei-48\"/>\n      </g>\n     </g>\n    </g>\n   </g>\n   <g id=\"line2d_17\">\n    <path clip-path=\"url(#p3ca9b55f41)\" d=\"M 44.119786 275.41801 \nL 59.824824 280.84858 \nL 75.529862 265.914514 \nL 91.2349 279.490937 \nL 106.939938 272.702725 \nL 122.644976 265.914514 \nL 138.350014 271.345083 \nL 154.055052 256.411017 \nL 169.76009 200.74768 \nL 185.465128 202.105323 \nL 201.170166 33.75767 \nL 216.875204 54.122306 \nL 232.580242 113.85857 \nL 248.28528 158.660767 \nL 263.990318 141.011417 \nL 279.695356 33.75767 \nL 295.400394 33.75767 \nL 311.105432 33.75767 \nL 326.81047 33.75767 \nL 342.515508 33.75767 \n\" style=\"fill:none;stroke:#1f77b4;stroke-linecap:square;stroke-width:1.5;\"/>\n   </g>\n   <g id=\"patch_3\">\n    <path d=\"M 29.2 293.203125 \nL 29.2 21.403125 \n\" style=\"fill:none;stroke:#000000;stroke-linecap:square;stroke-linejoin:miter;stroke-width:0.8;\"/>\n   </g>\n   <g id=\"patch_4\">\n    <path d=\"M 357.435294 293.203125 \nL 357.435294 21.403125 \n\" style=\"fill:none;stroke:#000000;stroke-linecap:square;stroke-linejoin:miter;stroke-width:0.8;\"/>\n   </g>\n   <g id=\"patch_5\">\n    <path d=\"M 29.2 293.203125 \nL 357.435294 293.203125 \n\" style=\"fill:none;stroke:#000000;stroke-linecap:square;stroke-linejoin:miter;stroke-width:0.8;\"/>\n   </g>\n   <g id=\"patch_6\">\n    <path d=\"M 29.2 21.403125 \nL 357.435294 21.403125 \n\" style=\"fill:none;stroke:#000000;stroke-linecap:square;stroke-linejoin:miter;stroke-width:0.8;\"/>\n   </g>\n   <g id=\"text_17\">\n    <!-- frame 20000. reward: 200.0 -->\n    <g transform=\"translate(115.317647 15.403125)scale(0.12 -0.12)\">\n     <defs>\n      <path d=\"M 44.921875 59.375 \nQ 42.96875 60.546875 40.234375 61.328125 \nQ 37.5 62.109375 33.203125 62.109375 \nQ 28.90625 62.109375 27.34375 59.953125 \nQ 25.78125 57.8125 25.78125 54.6875 \nL 25.78125 45.3125 \nL 41.796875 45.3125 \nL 41.796875 39.0625 \nL 25.78125 39.0625 \nL 25.78125 1.5625 \nL 17.96875 1.5625 \nL 17.96875 39.0625 \nL 4.6875 39.0625 \nL 4.6875 45.3125 \nL 17.96875 45.3125 \nL 17.96875 54.296875 \nQ 17.96875 61.328125 22.265625 65.234375 \nQ 26.5625 69.140625 33.59375 69.140625 \nQ 37.890625 69.140625 40.421875 68.546875 \nQ 42.96875 67.96875 44.921875 67.1875 \nz\n\" id=\"SimHei-102\"/>\n      <path d=\"M 39.453125 37.5 \nQ 32.03125 38.671875 26.953125 35.34375 \nQ 21.875 32.03125 18.359375 23.828125 \nL 18.359375 1.5625 \nL 10.546875 1.5625 \nL 10.546875 45.3125 \nL 18.359375 45.3125 \nL 18.359375 33.984375 \nQ 21.875 40.234375 27.140625 43.15625 \nQ 32.421875 46.09375 39.453125 46.09375 \nz\n\" id=\"SimHei-114\"/>\n      <path d=\"M 45.3125 1.5625 \nL 35.9375 1.5625 \nQ 35.15625 2.34375 34.765625 3.703125 \nQ 34.375 5.078125 34.375 7.03125 \nQ 31.640625 3.90625 27.734375 2.34375 \nQ 23.828125 0.78125 19.53125 0.78125 \nQ 13.28125 0.78125 8.984375 3.90625 \nQ 4.6875 7.03125 4.6875 12.890625 \nQ 4.6875 18.75 8.59375 22.265625 \nQ 12.5 25.78125 20.703125 26.953125 \nQ 26.171875 27.734375 30.265625 28.90625 \nQ 34.375 30.078125 34.375 32.03125 \nQ 34.375 34.375 32.609375 36.71875 \nQ 30.859375 39.0625 25 39.0625 \nQ 20.3125 39.0625 18.15625 37.296875 \nQ 16.015625 35.546875 15.234375 32.421875 \nL 6.640625 32.421875 \nQ 7.421875 38.671875 12.296875 42.375 \nQ 17.1875 46.09375 25 46.09375 \nQ 33.59375 46.09375 37.890625 42.1875 \nQ 42.1875 38.28125 42.1875 31.25 \nL 42.1875 9.765625 \nQ 42.1875 7.421875 42.96875 5.46875 \nQ 43.75 3.515625 45.3125 1.5625 \nz\nM 34.375 16.015625 \nL 34.375 23.828125 \nQ 32.03125 23.046875 29.875 22.453125 \nQ 27.734375 21.875 22.65625 21.09375 \nQ 16.796875 20.3125 15.03125 18.359375 \nQ 13.28125 16.40625 13.28125 13.671875 \nQ 13.28125 11.328125 15.03125 9.5625 \nQ 16.796875 7.8125 20.3125 7.8125 \nQ 23.828125 7.8125 27.921875 9.765625 \nQ 32.03125 11.71875 34.375 16.015625 \nz\n\" id=\"SimHei-97\"/>\n      <path d=\"M 48.046875 1.5625 \nL 40.234375 1.5625 \nL 40.234375 33.203125 \nQ 40.234375 35.546875 39.453125 37.109375 \nQ 38.671875 38.671875 36.328125 38.671875 \nQ 33.59375 38.671875 31.25 35.734375 \nQ 28.90625 32.8125 28.90625 28.125 \nL 28.90625 1.5625 \nL 21.09375 1.5625 \nL 21.09375 33.203125 \nQ 21.09375 35.546875 20.3125 37.109375 \nQ 19.53125 38.671875 17.1875 38.671875 \nQ 14.453125 38.671875 12.109375 35.734375 \nQ 9.765625 32.8125 9.765625 28.125 \nL 9.765625 1.5625 \nL 1.953125 1.5625 \nL 1.953125 45.3125 \nL 9.765625 45.3125 \nL 9.765625 39.453125 \nQ 11.71875 42.578125 14.453125 44.328125 \nQ 17.1875 46.09375 20.3125 46.09375 \nQ 23.4375 46.09375 25.578125 44.328125 \nQ 27.734375 42.578125 28.515625 39.453125 \nQ 30.46875 42.578125 33 44.328125 \nQ 35.546875 46.09375 38.671875 46.09375 \nQ 43.359375 46.09375 45.703125 43.546875 \nQ 48.046875 41.015625 48.046875 36.328125 \nz\n\" id=\"SimHei-109\"/>\n      <path d=\"M 44.921875 16.40625 \nQ 44.140625 9.375 38.671875 5.078125 \nQ 33.203125 0.78125 25.78125 0.78125 \nQ 16.40625 0.78125 10.34375 6.828125 \nQ 4.296875 12.890625 4.296875 23.4375 \nQ 4.296875 33.984375 10.34375 40.03125 \nQ 16.40625 46.09375 25.78125 46.09375 \nQ 33.984375 46.09375 39.25 40.8125 \nQ 44.53125 35.546875 44.53125 23.4375 \nL 12.890625 23.4375 \nQ 12.890625 14.84375 16.59375 11.328125 \nQ 20.3125 7.8125 25.78125 7.8125 \nQ 30.078125 7.8125 32.8125 9.953125 \nQ 35.546875 12.109375 36.328125 16.40625 \nz\nM 35.546875 29.6875 \nQ 34.765625 35.15625 32.03125 37.296875 \nQ 29.296875 39.453125 25 39.453125 \nQ 21.09375 39.453125 17.96875 37.296875 \nQ 14.84375 35.15625 13.28125 29.6875 \nz\n\" id=\"SimHei-101\"/>\n      <path id=\"SimHei-32\"/>\n      <path d=\"M 48.4375 45.3125 \nL 38.671875 0.78125 \nL 31.25 0.78125 \nL 25 34.765625 \nL 24.21875 34.765625 \nL 17.96875 0.78125 \nL 10.546875 0.78125 \nL 0.78125 45.3125 \nL 8.984375 45.3125 \nL 14.0625 16.015625 \nL 14.84375 16.015625 \nL 20.3125 45.3125 \nL 28.90625 45.3125 \nL 34.375 16.015625 \nL 35.15625 16.015625 \nL 40.234375 45.3125 \nz\n\" id=\"SimHei-119\"/>\n      <path d=\"M 43.359375 1.5625 \nL 35.546875 1.5625 \nL 35.546875 7.421875 \nQ 33.203125 3.90625 30.078125 2.34375 \nQ 26.953125 0.78125 22.65625 0.78125 \nQ 14.84375 0.78125 9.375 6.4375 \nQ 3.90625 12.109375 3.90625 23.4375 \nQ 3.90625 34.765625 9.375 40.625 \nQ 14.84375 46.484375 22.65625 46.484375 \nQ 26.953125 46.484375 30.078125 44.71875 \nQ 33.203125 42.96875 35.546875 39.453125 \nL 35.546875 68.359375 \nL 43.359375 68.359375 \nz\nM 35.546875 23.4375 \nQ 35.546875 30.859375 32.21875 35.15625 \nQ 28.90625 39.453125 24.21875 39.453125 \nQ 18.359375 39.453125 15.421875 35.15625 \nQ 12.5 30.859375 12.5 23.4375 \nQ 12.5 16.015625 15.421875 11.90625 \nQ 18.359375 7.8125 24.21875 7.8125 \nQ 28.90625 7.8125 32.21875 11.90625 \nQ 35.546875 16.015625 35.546875 23.4375 \nz\n\" id=\"SimHei-100\"/>\n      <path d=\"M 28.90625 37.5 \nL 19.921875 37.5 \nL 19.921875 46.09375 \nL 28.90625 46.09375 \nz\nM 28.90625 1.5625 \nL 19.921875 1.5625 \nL 19.921875 10.15625 \nL 28.90625 10.15625 \nz\n\" id=\"SimHei-58\"/>\n     </defs>\n     <use xlink:href=\"#SimHei-102\"/>\n     <use x=\"50\" xlink:href=\"#SimHei-114\"/>\n     <use x=\"100\" xlink:href=\"#SimHei-97\"/>\n     <use x=\"150\" xlink:href=\"#SimHei-109\"/>\n     <use x=\"200\" xlink:href=\"#SimHei-101\"/>\n     <use x=\"250\" xlink:href=\"#SimHei-32\"/>\n     <use x=\"300\" xlink:href=\"#SimHei-50\"/>\n     <use x=\"350\" xlink:href=\"#SimHei-48\"/>\n     <use x=\"400\" xlink:href=\"#SimHei-48\"/>\n     <use x=\"450\" xlink:href=\"#SimHei-48\"/>\n     <use x=\"500\" xlink:href=\"#SimHei-48\"/>\n     <use x=\"550\" xlink:href=\"#SimHei-46\"/>\n     <use x=\"600\" xlink:href=\"#SimHei-32\"/>\n     <use x=\"650\" xlink:href=\"#SimHei-114\"/>\n     <use x=\"700\" xlink:href=\"#SimHei-101\"/>\n     <use x=\"750\" xlink:href=\"#SimHei-119\"/>\n     <use x=\"800\" xlink:href=\"#SimHei-97\"/>\n     <use x=\"850\" xlink:href=\"#SimHei-114\"/>\n     <use x=\"900\" xlink:href=\"#SimHei-100\"/>\n     <use x=\"950\" xlink:href=\"#SimHei-58\"/>\n     <use x=\"1000\" xlink:href=\"#SimHei-32\"/>\n     <use x=\"1050\" xlink:href=\"#SimHei-50\"/>\n     <use x=\"1100\" xlink:href=\"#SimHei-48\"/>\n     <use x=\"1150\" xlink:href=\"#SimHei-48\"/>\n     <use x=\"1200\" xlink:href=\"#SimHei-46\"/>\n     <use x=\"1250\" xlink:href=\"#SimHei-48\"/>\n    </g>\n   </g>\n  </g>\n </g>\n <defs>\n  <clipPath id=\"p3ca9b55f41\">\n   <rect height=\"271.8\" width=\"328.235294\" x=\"29.2\" y=\"21.403125\"/>\n  </clipPath>\n </defs>\n</svg>\n",
      "image/png": "[encoded data removed]"
     },
     "metadata": {
      "needs_background": "light"
     }
    }
   ],
   "source": [
    "start = time.time()\n",
    "\n",
    "state = envs.reset()\n",
    "\n",
    "while frame_idx < max_frames:\n",
    "\n",
    "    log_probs = []\n",
    "    values    = []\n",
    "    rewards   = []\n",
    "    masks     = []\n",
    "    entropy = 0\n",
    "\n",
    "    for _ in range(num_steps):\n",
    "        state = torch.FloatTensor(state).to(device)\n",
    "        dist, value = model(state)\n",
    "        \n",
    "        # print('dist: ',dist,dist.sample())\n",
    "\n",
    "        action = dist.sample()\n",
    "        next_state, reward, done, _ = envs.step(action.cpu().numpy())\n",
    "        # \n",
    "\n",
    "        log_prob = dist.log_prob(action)\n",
    "        entropy += dist.entropy().mean()\n",
    "        \n",
    "        log_probs.append(log_prob)\n",
    "        values.append(value)\n",
    "        # print('reward: ', reward)\n",
    "        rewards.append(torch.FloatTensor(reward).unsqueeze(1).to(device))\n",
    "        masks.append(torch.FloatTensor(1 - done).unsqueeze(1).to(device))\n",
    "        # print('new reward: ', reward)\n",
    "        state = next_state\n",
    "        frame_idx += 1\n",
    "        # if frame_idx == 1000:\n",
    "        #     print('1000 train time: ', time.time() - start)\n",
    "        #     break\n",
    "\n",
    "        if frame_idx % 1000 == 0:\n",
    "            test_rewards.append(np.mean([test_env() for _ in range(1)]))\n",
    "            plot(frame_idx, test_rewards)\n",
    "    \n",
    "    # print(entropy)\n",
    "    next_state = torch.FloatTensor(next_state).to(device)\n",
    "    _, next_value = model(next_state)\n",
    "    \n",
    "    # print('cul',next_value.shape)\n",
    "    # print('rewards:',rewards[0].shape )\n",
    "    # print('mask: ',masks)\n",
    "    \n",
    "    returns = compute_returns(next_value, rewards, masks)\n",
    "    # print('returns : ',returns)\n",
    "\n",
    "    \n",
    "    log_probs = torch.cat(log_probs)\n",
    "    returns   = torch.cat(returns).detach()\n",
    "    values    = torch.cat(values)\n",
    "    # print('returns: ',returns, returns.shape) # value.shape [10,1]\n",
    "\n",
    "    advantage = returns - values # [10,1]\n",
    "    # print('bug',log_probs.shape, advantage.shape)\n",
    "\n",
    "    actor_loss  = -(log_probs * advantage.detach()).mean()\n",
    "    critic_loss = advantage.pow(2).mean()\n",
    "\n",
    "    loss = actor_loss + 0.5 * critic_loss - 0.001 * entropy\n",
    "\n",
    "    optimizer.zero_grad()\n",
    "    loss.backward()\n",
    "    optimizer.step()\n",
    "    end = time.time()\n",
    "    # print('一次训练所需时间time: ', end - start)"
   ]
  },
  {
   "cell_type": "code",
   "execution_count": 37,
   "metadata": {},
   "outputs": [],
   "source": [
    "torch.save(model.state_dict(),'ac_model.pth')\n"
   ]
  },
  {
   "cell_type": "code",
   "execution_count": 40,
   "metadata": {
    "tags": []
   },
   "outputs": [
    {
     "output_type": "execute_result",
     "data": {
      "text/plain": [
       "200.0"
      ]
     },
     "metadata": {},
     "execution_count": 40
    }
   ],
   "source": [
    "test_env(True)\n",
    "\n",
    "# def predict():\n",
    "#     state = env.reset()\n",
    "#     state = torch.FloatTensor(state).unsqueeze(0).to(device)\n",
    "#     s = time.perf_counter()\n",
    "#     dist, _ = model(state)\n",
    "#     e = time.perf_counter()\n",
    "#     print(e-s)\n",
    "# predict()\n",
    "\n",
    "\n"
   ]
  },
  {
   "cell_type": "code",
   "execution_count": 39,
   "metadata": {
    "tags": []
   },
   "outputs": [],
   "source": [
    "# res_rewards = []\n",
    "# for _ in range(100):\n",
    "#     res_rewards.append(test_env(False))\n",
    "# print(res_rewards)\n",
    "# print(np.mean(res_rewards))"
   ]
  },
  {
   "cell_type": "code",
   "execution_count": null,
   "metadata": {},
   "outputs": [],
   "source": []
  }
 ],
 "metadata": {
  "kernelspec": {
   "name": "python363jvsc74a57bd07a29bcb23a0ab4b628de1ef28bf000c8e312015eb828f1870c9d55726cf27100",
   "display_name": "Python 3.6.3 64-bit ('torch_3.6.3': pyenv)"
  },
  "language_info": {
   "codemirror_mode": {
    "name": "ipython",
    "version": 3
   },
   "file_extension": ".py",
   "mimetype": "text/x-python",
   "name": "python",
   "nbconvert_exporter": "python",
   "pygments_lexer": "ipython3",
   "version": "3.6.3"
  }
 },
 "nbformat": 4,
 "nbformat_minor": 2
}